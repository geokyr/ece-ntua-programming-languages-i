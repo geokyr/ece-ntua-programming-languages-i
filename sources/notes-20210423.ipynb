{
 "cells": [
  {
   "cell_type": "markdown",
   "id": "smart-classification",
   "metadata": {},
   "source": [
    "# Σημειώσεις Python, μέρος 3/3\n",
    "\n",
    "Για το μάθημα \"Γλώσσες Προγραμματισμού Ι\"  \n",
    "Κωστής Σαγώνας, Νίκος Παπασπύρου.\n",
    "\n",
    "Από την [παράδοση της 23/4/2021](https://youtu.be/wrxoOmSiHY8)."
   ]
  },
  {
   "cell_type": "markdown",
   "id": "several-structure",
   "metadata": {},
   "source": [
    "## Είσοδος και έξοδος"
   ]
  },
  {
   "cell_type": "code",
   "execution_count": 1,
   "id": "amateur-alliance",
   "metadata": {},
   "outputs": [
    {
     "name": "stdout",
     "output_type": "stream",
     "text": [
      "nickie\n",
      "Your name is: nickie\n"
     ]
    }
   ],
   "source": [
    "name = input()\n",
    "print(\"Your name is:\", name)"
   ]
  },
  {
   "cell_type": "code",
   "execution_count": 2,
   "id": "flexible-omega",
   "metadata": {},
   "outputs": [
    {
     "name": "stdout",
     "output_type": "stream",
     "text": [
      "17\n",
      "You gave me: 17\n"
     ]
    }
   ],
   "source": [
    "n = int(input())\n",
    "print(\"You gave me:\", n)"
   ]
  },
  {
   "cell_type": "code",
   "execution_count": 3,
   "id": "choice-respect",
   "metadata": {},
   "outputs": [
    {
     "data": {
      "text/plain": [
       "['Nikos', 'Papaspyrou']"
      ]
     },
     "execution_count": 3,
     "metadata": {},
     "output_type": "execute_result"
    }
   ],
   "source": [
    "\"Nikos Papaspyrou\".split()"
   ]
  },
  {
   "cell_type": "code",
   "execution_count": 4,
   "id": "medical-opposition",
   "metadata": {},
   "outputs": [
    {
     "name": "stdout",
     "output_type": "stream",
     "text": [
      "Nikos Papaspyrou\n",
      "First: Nikos and last: Papaspyrou\n"
     ]
    }
   ],
   "source": [
    "name = input()\n",
    "words = name.split()\n",
    "first = words[0]\n",
    "last = words[1]\n",
    "print(\"First:\", first, \"and last:\", last)"
   ]
  },
  {
   "cell_type": "code",
   "execution_count": 5,
   "id": "sophisticated-footage",
   "metadata": {},
   "outputs": [
    {
     "name": "stdout",
     "output_type": "stream",
     "text": [
      "Nikos Papaspyrou\n",
      "First: Nikos and last: Papaspyrou\n"
     ]
    }
   ],
   "source": [
    "first, last = input().split()\n",
    "print(\"First:\", first, \"and last:\", last)"
   ]
  },
  {
   "cell_type": "code",
   "execution_count": 6,
   "id": "informal-scanning",
   "metadata": {},
   "outputs": [
    {
     "data": {
      "text/plain": [
       "'The answer is 42 and this is final!'"
      ]
     },
     "execution_count": 6,
     "metadata": {},
     "output_type": "execute_result"
    }
   ],
   "source": [
    "\"The answer is {} and this is final!\".format(42)"
   ]
  },
  {
   "cell_type": "code",
   "execution_count": 7,
   "id": "weekly-omaha",
   "metadata": {},
   "outputs": [
    {
     "data": {
      "text/plain": [
       "'The answer is 3.14 and this is final!'"
      ]
     },
     "execution_count": 7,
     "metadata": {},
     "output_type": "execute_result"
    }
   ],
   "source": [
    "\"The answer is {:0.2f} and this is final!\".format(3.14159)"
   ]
  },
  {
   "cell_type": "code",
   "execution_count": 8,
   "id": "adaptive-reliance",
   "metadata": {},
   "outputs": [
    {
     "data": {
      "text/plain": [
       "'The answer is yes and this is final!'"
      ]
     },
     "execution_count": 8,
     "metadata": {},
     "output_type": "execute_result"
    }
   ],
   "source": [
    "\"The answer is {} and this is final!\".format(\"yes\")"
   ]
  },
  {
   "cell_type": "code",
   "execution_count": 9,
   "id": "motivated-prior",
   "metadata": {},
   "outputs": [
    {
     "name": "stdout",
     "output_type": "stream",
     "text": [
      "Nikos Papaspyrou\n",
      "First: Nikos and last: Papaspyrou\n"
     ]
    }
   ],
   "source": [
    "first, last = input().split()\n",
    "print(\"First: {} and last: {}\".format(first, last))"
   ]
  },
  {
   "cell_type": "code",
   "execution_count": 10,
   "id": "valued-feature",
   "metadata": {},
   "outputs": [
    {
     "data": {
      "text/plain": [
       "'{}42'"
      ]
     },
     "execution_count": 10,
     "metadata": {},
     "output_type": "execute_result"
    }
   ],
   "source": [
    "\"{{}}{}\".format(42)"
   ]
  },
  {
   "cell_type": "markdown",
   "id": "small-invite",
   "metadata": {},
   "source": [
    "## Παράδειγμα: η πρώτη προγραμματιστική άσκηση"
   ]
  },
  {
   "cell_type": "markdown",
   "id": "direct-signature",
   "metadata": {},
   "source": [
    "Διαβάστε δύο αριθμούς από μία γραμμή και τυπώστε το άθροισμά τους."
   ]
  },
  {
   "cell_type": "code",
   "execution_count": 11,
   "id": "honest-provision",
   "metadata": {},
   "outputs": [
    {
     "name": "stdout",
     "output_type": "stream",
     "text": [
      "17 25\n",
      "1725\n"
     ]
    }
   ],
   "source": [
    "x, y = input().split()\n",
    "print(x+y)"
   ]
  },
  {
   "cell_type": "code",
   "execution_count": 12,
   "id": "incorrect-coordination",
   "metadata": {},
   "outputs": [
    {
     "name": "stdout",
     "output_type": "stream",
     "text": [
      "17 25\n",
      "42\n"
     ]
    }
   ],
   "source": [
    "x, y = input().split()\n",
    "x, y = int(x), int(y)\n",
    "print(x+y)"
   ]
  },
  {
   "cell_type": "code",
   "execution_count": 13,
   "id": "about-parts",
   "metadata": {},
   "outputs": [
    {
     "name": "stdout",
     "output_type": "stream",
     "text": [
      "2\n",
      "4\n",
      "6\n",
      "8\n"
     ]
    }
   ],
   "source": [
    "def f(x):\n",
    "    return 2*x\n",
    "for y in map(f, [1, 2, 3, 4]):\n",
    "    print(y)"
   ]
  },
  {
   "cell_type": "code",
   "execution_count": 14,
   "id": "spanish-growing",
   "metadata": {},
   "outputs": [
    {
     "data": {
      "text/plain": [
       "<map at 0x10c86c040>"
      ]
     },
     "execution_count": 14,
     "metadata": {},
     "output_type": "execute_result"
    }
   ],
   "source": [
    "def f(x):\n",
    "    return 2*x\n",
    "map(f, [1, 2, 3, 4])"
   ]
  },
  {
   "cell_type": "code",
   "execution_count": 15,
   "id": "included-subject",
   "metadata": {},
   "outputs": [
    {
     "data": {
      "text/plain": [
       "[2, 4, 6, 8]"
      ]
     },
     "execution_count": 15,
     "metadata": {},
     "output_type": "execute_result"
    }
   ],
   "source": [
    "def f(x):\n",
    "    return 2*x\n",
    "list(map(f, [1, 2, 3, 4]))"
   ]
  },
  {
   "cell_type": "code",
   "execution_count": 16,
   "id": "productive-penny",
   "metadata": {},
   "outputs": [
    {
     "data": {
      "text/plain": [
       "[2, 4, 6, 8]"
      ]
     },
     "execution_count": 16,
     "metadata": {},
     "output_type": "execute_result"
    }
   ],
   "source": [
    "list(map(lambda x: 2*x, [1, 2, 3, 4]))    # fn x => 2*x"
   ]
  },
  {
   "cell_type": "code",
   "execution_count": 17,
   "id": "brilliant-baltimore",
   "metadata": {},
   "outputs": [
    {
     "name": "stdout",
     "output_type": "stream",
     "text": [
      "17 25\n",
      "42\n"
     ]
    }
   ],
   "source": [
    "x, y = map(int, input().split())\n",
    "print(x+y)"
   ]
  },
  {
   "cell_type": "code",
   "execution_count": 18,
   "id": "phantom-nepal",
   "metadata": {},
   "outputs": [
    {
     "data": {
      "text/plain": [
       "10"
      ]
     },
     "execution_count": 18,
     "metadata": {},
     "output_type": "execute_result"
    }
   ],
   "source": [
    "sum([1, 2, 3, 4])"
   ]
  },
  {
   "cell_type": "code",
   "execution_count": 19,
   "id": "desirable-attention",
   "metadata": {},
   "outputs": [
    {
     "name": "stdout",
     "output_type": "stream",
     "text": [
      "17 25\n",
      "42\n"
     ]
    }
   ],
   "source": [
    "print(sum(map(int, input().split())))"
   ]
  },
  {
   "cell_type": "code",
   "execution_count": 20,
   "id": "brief-aspect",
   "metadata": {},
   "outputs": [
    {
     "name": "stdout",
     "output_type": "stream",
     "text": [
      "1 2 3 4 5 6\n",
      "21\n"
     ]
    }
   ],
   "source": [
    "print(sum(map(int, input().split())))"
   ]
  },
  {
   "cell_type": "markdown",
   "id": "respective-certification",
   "metadata": {},
   "source": [
    "## Παράδειγμα: το πρόβλημα exclude"
   ]
  },
  {
   "cell_type": "markdown",
   "id": "seasonal-spank",
   "metadata": {},
   "source": [
    "Δίνονται δύο ακολουθίες αριθμών Α και Β.  Εκτυπώστε όλους τους αριθμούς της Α που δεν ανήκουν στη Β, με την ίδια σειρά εμφάνισης."
   ]
  },
  {
   "cell_type": "markdown",
   "id": "scientific-flooring",
   "metadata": {},
   "source": [
    "Αυτό είναι λάθος, γιατί το αντικείμενο που επιστρέφει η `map` συμπεριφέρεται σαν generator και μπορεί να χρησιμοποιηθεί μία φορά σε loop:"
   ]
  },
  {
   "cell_type": "code",
   "execution_count": 21,
   "id": "interior-thesaurus",
   "metadata": {},
   "outputs": [
    {
     "name": "stdout",
     "output_type": "stream",
     "text": [
      "5 5\n",
      "4 9 5 1 10\n",
      "5 7 2 4 1\n",
      "9\n",
      "5\n",
      "1\n",
      "10\n"
     ]
    }
   ],
   "source": [
    "N, M = map(int, input().split())\n",
    "A = map(int, input().split())\n",
    "B = map(int, input().split())\n",
    "for a in A:\n",
    "    if a not in B:\n",
    "        print(a)"
   ]
  },
  {
   "cell_type": "markdown",
   "id": "australian-wales",
   "metadata": {},
   "source": [
    "Αυτό είναι τώρα σωστό.  Όμως, κοστίζει $O(N*M)$ γιατί ο έλεγχος `a not in B` κοστίζει $O(M)$ αφού κάνει γραμμική αναζήτηση στη λίστα."
   ]
  },
  {
   "cell_type": "code",
   "execution_count": 22,
   "id": "prepared-latin",
   "metadata": {},
   "outputs": [
    {
     "name": "stdout",
     "output_type": "stream",
     "text": [
      "5 5\n",
      "4 9 5 1 10\n",
      "5 7 2 4 1\n",
      "9\n",
      "10\n"
     ]
    }
   ],
   "source": [
    "N, M = map(int, input().split())\n",
    "A = map(int, input().split())\n",
    "B = list(map(int, input().split()))\n",
    "for a in A:\n",
    "    if a not in B:\n",
    "        print(a)"
   ]
  },
  {
   "cell_type": "markdown",
   "id": "subject-reason",
   "metadata": {},
   "source": [
    "Αυτό είναι σωστό και αποδοτικό.  Κοστίζει $O(N+M)$ γιατί τώρα ο έλεγχος `a not in B` κοστίζει πρακτικά $O(1)$ αφού το σύνολο `B` υλοποιείται με πίνακα κατακερματισμού:"
   ]
  },
  {
   "cell_type": "code",
   "execution_count": 23,
   "id": "proprietary-directive",
   "metadata": {},
   "outputs": [
    {
     "name": "stdout",
     "output_type": "stream",
     "text": [
      "5 5\n",
      "4 9 5 1 10\n",
      "5 7 2 4 1\n",
      "9\n",
      "10\n"
     ]
    }
   ],
   "source": [
    "N, M = map(int, input().split())\n",
    "A = map(int, input().split())\n",
    "B = set(map(int, input().split()))\n",
    "for a in A:\n",
    "    if a not in B:\n",
    "        print(a)"
   ]
  },
  {
   "cell_type": "markdown",
   "id": "global-seventh",
   "metadata": {},
   "source": [
    "Ας πούμε τώρα ότι θέλουμε να τυπώσουμε τα αποτελέσματα σε μία γραμμή χωρισμένα μεταξύ τους με κενά διαστήματα (χωρίς extra κενό διάστημα στο τέλος).\n",
    "\n",
    "Πρώτη απόπειρα:"
   ]
  },
  {
   "cell_type": "code",
   "execution_count": 24,
   "id": "dangerous-cleveland",
   "metadata": {},
   "outputs": [
    {
     "name": "stdout",
     "output_type": "stream",
     "text": [
      "5 5\n",
      "4 9 5 1 10\n",
      "5 7 2 4 1\n",
      "[9, 10]\n"
     ]
    }
   ],
   "source": [
    "N, M = map(int, input().split())\n",
    "A = map(int, input().split())\n",
    "B = set(map(int, input().split()))\n",
    "L = [a for a in A if a not in B]\n",
    "print(L)"
   ]
  },
  {
   "cell_type": "markdown",
   "id": "careful-peace",
   "metadata": {},
   "source": [
    "Γνωριμία με την `join`."
   ]
  },
  {
   "cell_type": "code",
   "execution_count": 30,
   "id": "pediatric-scheduling",
   "metadata": {},
   "outputs": [
    {
     "data": {
      "text/plain": [
       "'hello world the rest'"
      ]
     },
     "execution_count": 30,
     "metadata": {},
     "output_type": "execute_result"
    }
   ],
   "source": [
    "\" \".join([\"hello\", \"world\", \"the\", \"rest\"])"
   ]
  },
  {
   "cell_type": "code",
   "execution_count": 33,
   "id": "offensive-parish",
   "metadata": {},
   "outputs": [
    {
     "ename": "TypeError",
     "evalue": "sequence item 0: expected str instance, int found",
     "output_type": "error",
     "traceback": [
      "\u001b[0;31m---------------------------------------------------------------------------\u001b[0m",
      "\u001b[0;31mTypeError\u001b[0m                                 Traceback (most recent call last)",
      "\u001b[0;32m<ipython-input-33-a76d869940cf>\u001b[0m in \u001b[0;36m<module>\u001b[0;34m\u001b[0m\n\u001b[0;32m----> 1\u001b[0;31m \u001b[0;34m\" \"\u001b[0m\u001b[0;34m.\u001b[0m\u001b[0mjoin\u001b[0m\u001b[0;34m(\u001b[0m\u001b[0mL\u001b[0m\u001b[0;34m)\u001b[0m\u001b[0;34m\u001b[0m\u001b[0;34m\u001b[0m\u001b[0m\n\u001b[0m",
      "\u001b[0;31mTypeError\u001b[0m: sequence item 0: expected str instance, int found"
     ]
    }
   ],
   "source": [
    "\" \".join(L)"
   ]
  },
  {
   "cell_type": "code",
   "execution_count": 34,
   "id": "quiet-filename",
   "metadata": {},
   "outputs": [
    {
     "data": {
      "text/plain": [
       "'42'"
      ]
     },
     "execution_count": 34,
     "metadata": {},
     "output_type": "execute_result"
    }
   ],
   "source": [
    "str(42)"
   ]
  },
  {
   "cell_type": "code",
   "execution_count": 35,
   "id": "speaking-assurance",
   "metadata": {},
   "outputs": [
    {
     "data": {
      "text/plain": [
       "'9 10'"
      ]
     },
     "execution_count": 35,
     "metadata": {},
     "output_type": "execute_result"
    }
   ],
   "source": [
    "\" \".join(map(str, L))"
   ]
  },
  {
   "cell_type": "code",
   "execution_count": 52,
   "id": "former-grace",
   "metadata": {},
   "outputs": [
    {
     "name": "stdout",
     "output_type": "stream",
     "text": [
      "5 5\n",
      "4 9 5 1 10\n",
      "5 7 2 4 1\n"
     ]
    }
   ],
   "source": [
    "N, M = map(int, input().split())\n",
    "A = list(map(int, input().split()))\n",
    "B = set(map(int, input().split()))"
   ]
  },
  {
   "cell_type": "code",
   "execution_count": 53,
   "id": "fuzzy-antarctica",
   "metadata": {},
   "outputs": [
    {
     "data": {
      "text/plain": [
       "([4, 9, 5, 1, 10], {1, 2, 4, 5, 7})"
      ]
     },
     "execution_count": 53,
     "metadata": {},
     "output_type": "execute_result"
    }
   ],
   "source": [
    "A, B"
   ]
  },
  {
   "cell_type": "markdown",
   "id": "adequate-suspension",
   "metadata": {},
   "source": [
    "Δεύτερη σωστή απόπειρα, σε τρεις παραλλαγές.  Γίνονται τρεις διασχίσεις: μία για να φτιάξουμε τη λίστα (list comprehension), μία για να φτιάξουμε τη συμβολοσειρά (`join`), και μία για την εκτύπωση (`print`)."
   ]
  },
  {
   "cell_type": "code",
   "execution_count": 54,
   "id": "large-kruger",
   "metadata": {},
   "outputs": [
    {
     "name": "stdout",
     "output_type": "stream",
     "text": [
      "9 10\n"
     ]
    }
   ],
   "source": [
    "L = [a for a in A if a not in B]\n",
    "print(\" \".join(map(str, L)))"
   ]
  },
  {
   "cell_type": "code",
   "execution_count": 55,
   "id": "plastic-cheat",
   "metadata": {},
   "outputs": [
    {
     "name": "stdout",
     "output_type": "stream",
     "text": [
      "9 10\n"
     ]
    }
   ],
   "source": [
    "L = [str(a) for a in A if a not in B]\n",
    "print(\" \".join(L))"
   ]
  },
  {
   "cell_type": "code",
   "execution_count": 56,
   "id": "eastern-housing",
   "metadata": {},
   "outputs": [
    {
     "name": "stdout",
     "output_type": "stream",
     "text": [
      "9 10\n"
     ]
    }
   ],
   "source": [
    "print(\" \".join([str(a) for a in A if a not in B]))"
   ]
  },
  {
   "cell_type": "markdown",
   "id": "southern-skiing",
   "metadata": {},
   "source": [
    "Τρίτη σωστή απόπειρα, με generator αντί για list comprehension.  Αυτή τη φορά γίνονται δύο διασχίσεις: μία για να φτιάξουμε τη συμβολοσειρά (`join`) και μία για την εκτύπωση (`print`)."
   ]
  },
  {
   "cell_type": "code",
   "execution_count": 57,
   "id": "dynamic-injury",
   "metadata": {},
   "outputs": [
    {
     "name": "stdout",
     "output_type": "stream",
     "text": [
      "9 10\n"
     ]
    }
   ],
   "source": [
    "print(\" \".join(str(a) for a in A if a not in B))"
   ]
  },
  {
   "cell_type": "markdown",
   "id": "intermediate-tenant",
   "metadata": {},
   "source": [
    "Τέταρτη και τελευταία σωστή απόπειρα, με generator και χωρίς join.  Προσέξτε το αστεράκι στην κλήση της συνάρτησης.  Τώρα γίνεται μόνο μία διάσχιση, κατά τη διάρκεια της εκτύπωσης, η οποία καταναλώνει τα στοιχεία του generator:"
   ]
  },
  {
   "cell_type": "code",
   "execution_count": 58,
   "id": "intelligent-calcium",
   "metadata": {
    "scrolled": true
   },
   "outputs": [
    {
     "name": "stdout",
     "output_type": "stream",
     "text": [
      "9 10\n"
     ]
    }
   ],
   "source": [
    "print(9, 10)"
   ]
  },
  {
   "cell_type": "code",
   "execution_count": 59,
   "id": "authentic-duration",
   "metadata": {},
   "outputs": [
    {
     "name": "stdout",
     "output_type": "stream",
     "text": [
      "9 10 11 12\n"
     ]
    }
   ],
   "source": [
    "print(9, 10, 11, 12)"
   ]
  },
  {
   "cell_type": "code",
   "execution_count": 60,
   "id": "immune-stuff",
   "metadata": {},
   "outputs": [],
   "source": [
    "L = [1, 2, 3]"
   ]
  },
  {
   "cell_type": "code",
   "execution_count": 61,
   "id": "unauthorized-adams",
   "metadata": {},
   "outputs": [
    {
     "name": "stdout",
     "output_type": "stream",
     "text": [
      "1 2 3\n"
     ]
    }
   ],
   "source": [
    "print(*L)"
   ]
  },
  {
   "cell_type": "code",
   "execution_count": 62,
   "id": "touched-processing",
   "metadata": {},
   "outputs": [
    {
     "name": "stdout",
     "output_type": "stream",
     "text": [
      "9 10\n"
     ]
    }
   ],
   "source": [
    "print(*(str(a) for a in A if a not in B))"
   ]
  },
  {
   "cell_type": "code",
   "execution_count": 63,
   "id": "moving-reward",
   "metadata": {},
   "outputs": [
    {
     "name": "stdout",
     "output_type": "stream",
     "text": [
      "5 5\n",
      "4 9 5 1 10\n",
      "5 7 2 4 1\n",
      "9 10\n"
     ]
    }
   ],
   "source": [
    "N, M = map(int, input().split())\n",
    "A = map(int, input().split())\n",
    "B = set(map(int, input().split()))\n",
    "print(*(str(a) for a in A if a not in B))"
   ]
  },
  {
   "cell_type": "markdown",
   "id": "amazing-enlargement",
   "metadata": {},
   "source": [
    "## Modules και βιβλιοθήκη της Python"
   ]
  },
  {
   "cell_type": "code",
   "execution_count": 64,
   "id": "desperate-seeker",
   "metadata": {},
   "outputs": [],
   "source": [
    "import random"
   ]
  },
  {
   "cell_type": "code",
   "execution_count": 65,
   "id": "split-thumbnail",
   "metadata": {},
   "outputs": [
    {
     "data": {
      "text/plain": [
       "1"
      ]
     },
     "execution_count": 65,
     "metadata": {},
     "output_type": "execute_result"
    }
   ],
   "source": [
    "random.randrange(10)"
   ]
  },
  {
   "cell_type": "code",
   "execution_count": 66,
   "id": "impossible-cooling",
   "metadata": {},
   "outputs": [],
   "source": [
    "L = [1, 2, 3, 4, 5]"
   ]
  },
  {
   "cell_type": "code",
   "execution_count": 67,
   "id": "vietnamese-occasions",
   "metadata": {},
   "outputs": [],
   "source": [
    "random.shuffle(L)"
   ]
  },
  {
   "cell_type": "code",
   "execution_count": 68,
   "id": "dedicated-giant",
   "metadata": {},
   "outputs": [
    {
     "data": {
      "text/plain": [
       "[3, 4, 2, 1, 5]"
      ]
     },
     "execution_count": 68,
     "metadata": {},
     "output_type": "execute_result"
    }
   ],
   "source": [
    "L"
   ]
  },
  {
   "cell_type": "code",
   "execution_count": 69,
   "id": "noble-prefix",
   "metadata": {},
   "outputs": [],
   "source": [
    "import itertools"
   ]
  },
  {
   "cell_type": "code",
   "execution_count": 70,
   "id": "revolutionary-madagascar",
   "metadata": {},
   "outputs": [],
   "source": [
    "daltons = [\"joe\", \"jack\", \"william\", \"averel\"]"
   ]
  },
  {
   "cell_type": "code",
   "execution_count": 71,
   "id": "steady-hygiene",
   "metadata": {},
   "outputs": [
    {
     "name": "stdout",
     "output_type": "stream",
     "text": [
      "('joe', 'jack')\n",
      "('joe', 'william')\n",
      "('joe', 'averel')\n",
      "('jack', 'william')\n",
      "('jack', 'averel')\n",
      "('william', 'averel')\n"
     ]
    }
   ],
   "source": [
    "for c in itertools.combinations(daltons, 2):\n",
    "    print(c)"
   ]
  },
  {
   "cell_type": "code",
   "execution_count": 72,
   "id": "strange-criticism",
   "metadata": {},
   "outputs": [
    {
     "name": "stdout",
     "output_type": "stream",
     "text": [
      "('joe', 'jack', 'william', 'averel')\n",
      "('joe', 'jack', 'averel', 'william')\n",
      "('joe', 'william', 'jack', 'averel')\n",
      "('joe', 'william', 'averel', 'jack')\n",
      "('joe', 'averel', 'jack', 'william')\n",
      "('joe', 'averel', 'william', 'jack')\n",
      "('jack', 'joe', 'william', 'averel')\n",
      "('jack', 'joe', 'averel', 'william')\n",
      "('jack', 'william', 'joe', 'averel')\n",
      "('jack', 'william', 'averel', 'joe')\n",
      "('jack', 'averel', 'joe', 'william')\n",
      "('jack', 'averel', 'william', 'joe')\n",
      "('william', 'joe', 'jack', 'averel')\n",
      "('william', 'joe', 'averel', 'jack')\n",
      "('william', 'jack', 'joe', 'averel')\n",
      "('william', 'jack', 'averel', 'joe')\n",
      "('william', 'averel', 'joe', 'jack')\n",
      "('william', 'averel', 'jack', 'joe')\n",
      "('averel', 'joe', 'jack', 'william')\n",
      "('averel', 'joe', 'william', 'jack')\n",
      "('averel', 'jack', 'joe', 'william')\n",
      "('averel', 'jack', 'william', 'joe')\n",
      "('averel', 'william', 'joe', 'jack')\n",
      "('averel', 'william', 'jack', 'joe')\n"
     ]
    }
   ],
   "source": [
    "for c in itertools.permutations(daltons):\n",
    "    print(c)"
   ]
  },
  {
   "cell_type": "markdown",
   "id": "sized-impact",
   "metadata": {},
   "source": [
    "## Παράδειγμα: ο λύκος, η κατσίκα και το λάχανο\n",
    "\n",
    "Το [γνωστό πρόβλημα](https://en.wikipedia.org/wiki/Wolf,_goat_and_cabbage_problem) που λύσαμε σε Prolog, τώρα σε Python.  Υλοποιούμε την αναζήτηση στο χώρο καταστάσεων με BFS, έτσι ώστε να βρίσκουμε τη βέλτιστη ακολουθία κινήσεων που οδηγούν στη λύση.  Εδώ την εκτυπώνουμε σε αντίστροφη σειρά."
   ]
  },
  {
   "cell_type": "code",
   "execution_count": 73,
   "id": "german-budget",
   "metadata": {},
   "outputs": [
    {
     "name": "stdout",
     "output_type": "stream",
     "text": [
      "(frozenset(), frozenset({'goat', 'man', 'wolf', 'cabbage'}))\n",
      "(frozenset({'goat', 'man'}), frozenset({'wolf', 'cabbage'}))\n",
      "(frozenset({'goat'}), frozenset({'man', 'wolf', 'cabbage'}))\n",
      "(frozenset({'goat', 'man', 'cabbage'}), frozenset({'wolf'}))\n",
      "(frozenset({'cabbage'}), frozenset({'goat', 'man', 'wolf'}))\n",
      "(frozenset({'man', 'wolf', 'cabbage'}), frozenset({'goat'}))\n",
      "(frozenset({'wolf', 'cabbage'}), frozenset({'goat', 'man'}))\n",
      "(frozenset({'goat', 'wolf', 'man', 'cabbage'}), frozenset())\n"
     ]
    }
   ],
   "source": [
    "#!/usr/bin/env python3\n",
    "\n",
    "from collections import deque\n",
    "\n",
    "init = frozenset({'man', 'wolf', 'goat', 'cabbage'}), frozenset()\n",
    "forbidden = [frozenset({'wolf', 'goat'}), frozenset({'goat', 'cabbage'})]\n",
    "\n",
    "def next(s):\n",
    "    edge = 0 if \"man\" in s[0] else 1\n",
    "    for x in s[edge]:\n",
    "        source = s[edge] - frozenset({\"man\", x})\n",
    "        target = s[1-edge] | frozenset({\"man\", x})\n",
    "        if any(bad <= source for bad in forbidden): continue\n",
    "        yield (source, target) if edge == 0 else (target, source)\n",
    "\n",
    "Q = deque([init])\n",
    "prev = {init: None}\n",
    "solved = False\n",
    "while Q:\n",
    "    s = Q.popleft()\n",
    "    if not s[0]:\n",
    "        solved = True\n",
    "        break\n",
    "    for t in next(s):\n",
    "        if t not in prev:\n",
    "            Q.append(t)\n",
    "            prev[t] = s\n",
    "\n",
    "if solved:\n",
    "    # in reverse order, from final state to initial\n",
    "    while s:\n",
    "        print(s)\n",
    "        s = prev[s]"
   ]
  }
 ],
 "metadata": {
  "kernelspec": {
   "display_name": "Python 3",
   "language": "python",
   "name": "python3"
  },
  "language_info": {
   "codemirror_mode": {
    "name": "ipython",
    "version": 3
   },
   "file_extension": ".py",
   "mimetype": "text/x-python",
   "name": "python",
   "nbconvert_exporter": "python",
   "pygments_lexer": "ipython3",
   "version": "3.9.2"
  }
 },
 "nbformat": 4,
 "nbformat_minor": 5
}
