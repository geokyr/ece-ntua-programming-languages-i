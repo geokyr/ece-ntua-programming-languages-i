{
 "cells": [
  {
   "cell_type": "markdown",
   "id": "smart-classification",
   "metadata": {},
   "source": [
    "# Σημειώσεις Python, μέρος 2/3\n",
    "\n",
    "Για το μάθημα \"Γλώσσες Προγραμματισμού Ι\"  \n",
    "Κωστής Σαγώνας, Νίκος Παπασπύρου.\n",
    "\n",
    "Από την [παράδοση της 16/4/2021](https://youtu.be/CWs3YWOQz6k)."
   ]
  },
  {
   "cell_type": "markdown",
   "id": "indonesian-speech",
   "metadata": {},
   "source": [
    "## Συμβολοσειρές"
   ]
  },
  {
   "cell_type": "code",
   "execution_count": 1,
   "id": "subject-smoke",
   "metadata": {},
   "outputs": [
    {
     "name": "stdout",
     "output_type": "stream",
     "text": [
      "o\n"
     ]
    }
   ],
   "source": [
    "s = \"hello world\"\n",
    "print(s[4])"
   ]
  },
  {
   "cell_type": "code",
   "execution_count": 2,
   "id": "immune-extraction",
   "metadata": {},
   "outputs": [],
   "source": [
    "# immutable = αμετάβλητα   <>   mutable = μεταβλητά"
   ]
  },
  {
   "cell_type": "code",
   "execution_count": 3,
   "id": "solid-roman",
   "metadata": {},
   "outputs": [
    {
     "ename": "TypeError",
     "evalue": "'str' object does not support item assignment",
     "output_type": "error",
     "traceback": [
      "\u001b[0;31m---------------------------------------------------------------------------\u001b[0m",
      "\u001b[0;31mTypeError\u001b[0m                                 Traceback (most recent call last)",
      "\u001b[0;32m<ipython-input-3-6266ee475640>\u001b[0m in \u001b[0;36m<module>\u001b[0;34m\u001b[0m\n\u001b[0;32m----> 1\u001b[0;31m \u001b[0ms\u001b[0m\u001b[0;34m[\u001b[0m\u001b[0;36m4\u001b[0m\u001b[0;34m]\u001b[0m \u001b[0;34m=\u001b[0m \u001b[0;34m'x'\u001b[0m\u001b[0;34m\u001b[0m\u001b[0;34m\u001b[0m\u001b[0m\n\u001b[0m",
      "\u001b[0;31mTypeError\u001b[0m: 'str' object does not support item assignment"
     ]
    }
   ],
   "source": [
    "s[4] = 'x'"
   ]
  },
  {
   "cell_type": "code",
   "execution_count": 4,
   "id": "ideal-hydrogen",
   "metadata": {},
   "outputs": [],
   "source": [
    "s = \"another string\""
   ]
  },
  {
   "cell_type": "code",
   "execution_count": 5,
   "id": "after-bachelor",
   "metadata": {},
   "outputs": [],
   "source": [
    "s = \"hello world\""
   ]
  },
  {
   "cell_type": "code",
   "execution_count": 6,
   "id": "imposed-creature",
   "metadata": {},
   "outputs": [
    {
     "data": {
      "text/plain": [
       "'hel'"
      ]
     },
     "execution_count": 6,
     "metadata": {},
     "output_type": "execute_result"
    }
   ],
   "source": [
    "s[:3]"
   ]
  },
  {
   "cell_type": "code",
   "execution_count": 7,
   "id": "ecological-disposal",
   "metadata": {},
   "outputs": [
    {
     "data": {
      "text/plain": [
       "'lo world'"
      ]
     },
     "execution_count": 7,
     "metadata": {},
     "output_type": "execute_result"
    }
   ],
   "source": [
    "s[3:]"
   ]
  },
  {
   "cell_type": "code",
   "execution_count": 8,
   "id": "expanded-traveler",
   "metadata": {},
   "outputs": [
    {
     "data": {
      "text/plain": [
       "'lo w'"
      ]
     },
     "execution_count": 8,
     "metadata": {},
     "output_type": "execute_result"
    }
   ],
   "source": [
    "s[3:7]"
   ]
  },
  {
   "cell_type": "code",
   "execution_count": 9,
   "id": "miniature-kingdom",
   "metadata": {},
   "outputs": [],
   "source": [
    "# slices"
   ]
  },
  {
   "cell_type": "markdown",
   "id": "whole-couple",
   "metadata": {},
   "source": [
    "Ranges με αρνητικό βήμα.  Τα slices μοιάζουν με τα ranges..."
   ]
  },
  {
   "cell_type": "code",
   "execution_count": 10,
   "id": "bronze-heather",
   "metadata": {},
   "outputs": [],
   "source": [
    "for i in range(3,7,-1): print(i)"
   ]
  },
  {
   "cell_type": "code",
   "execution_count": 11,
   "id": "optimum-traveler",
   "metadata": {},
   "outputs": [
    {
     "data": {
      "text/plain": [
       "'l '"
      ]
     },
     "execution_count": 11,
     "metadata": {},
     "output_type": "execute_result"
    }
   ],
   "source": [
    "s[3:7:2]"
   ]
  },
  {
   "cell_type": "code",
   "execution_count": 12,
   "id": "confused-internet",
   "metadata": {},
   "outputs": [
    {
     "data": {
      "text/plain": [
       "'hello world'"
      ]
     },
     "execution_count": 12,
     "metadata": {},
     "output_type": "execute_result"
    }
   ],
   "source": [
    "s"
   ]
  },
  {
   "cell_type": "code",
   "execution_count": 13,
   "id": "utility-lending",
   "metadata": {},
   "outputs": [],
   "source": [
    "s = s[:4] + 'x' + s[5:]"
   ]
  },
  {
   "cell_type": "code",
   "execution_count": 14,
   "id": "enormous-format",
   "metadata": {},
   "outputs": [
    {
     "data": {
      "text/plain": [
       "'hellx world'"
      ]
     },
     "execution_count": 14,
     "metadata": {},
     "output_type": "execute_result"
    }
   ],
   "source": [
    "s"
   ]
  },
  {
   "cell_type": "code",
   "execution_count": 15,
   "id": "efficient-cylinder",
   "metadata": {},
   "outputs": [
    {
     "name": "stdout",
     "output_type": "stream",
     "text": [
      "10\n",
      "9\n",
      "8\n",
      "7\n",
      "6\n",
      "5\n",
      "4\n",
      "3\n",
      "2\n",
      "1\n"
     ]
    }
   ],
   "source": [
    "for i in range(10,0,-1): print(i)"
   ]
  },
  {
   "cell_type": "code",
   "execution_count": 16,
   "id": "timely-winter",
   "metadata": {},
   "outputs": [
    {
     "data": {
      "text/plain": [
       "'hellx world'"
      ]
     },
     "execution_count": 16,
     "metadata": {},
     "output_type": "execute_result"
    }
   ],
   "source": [
    "s"
   ]
  },
  {
   "cell_type": "code",
   "execution_count": 17,
   "id": "expected-coaching",
   "metadata": {},
   "outputs": [
    {
     "data": {
      "text/plain": [
       "'ow x'"
      ]
     },
     "execution_count": 17,
     "metadata": {},
     "output_type": "execute_result"
    }
   ],
   "source": [
    "s[7:3:-1]"
   ]
  },
  {
   "cell_type": "code",
   "execution_count": 18,
   "id": "prescribed-furniture",
   "metadata": {},
   "outputs": [
    {
     "data": {
      "text/plain": [
       "'dlrow xlleh'"
      ]
     },
     "execution_count": 18,
     "metadata": {},
     "output_type": "execute_result"
    }
   ],
   "source": [
    "s[::-1]"
   ]
  },
  {
   "cell_type": "markdown",
   "id": "swiss-nitrogen",
   "metadata": {},
   "source": [
    "## Πλειάδες (tuples)"
   ]
  },
  {
   "cell_type": "code",
   "execution_count": 19,
   "id": "russian-atmosphere",
   "metadata": {},
   "outputs": [
    {
     "data": {
      "text/plain": [
       "(1, 2, 3, 4)"
      ]
     },
     "execution_count": 19,
     "metadata": {},
     "output_type": "execute_result"
    }
   ],
   "source": [
    "(1, 2, 3, 4)"
   ]
  },
  {
   "cell_type": "code",
   "execution_count": 20,
   "id": "satisfied-medication",
   "metadata": {},
   "outputs": [],
   "source": [
    "t = (1, \"hello\", False, 3.14)"
   ]
  },
  {
   "cell_type": "code",
   "execution_count": 21,
   "id": "fewer-richmond",
   "metadata": {},
   "outputs": [
    {
     "data": {
      "text/plain": [
       "1"
      ]
     },
     "execution_count": 21,
     "metadata": {},
     "output_type": "execute_result"
    }
   ],
   "source": [
    "t[0]"
   ]
  },
  {
   "cell_type": "code",
   "execution_count": 22,
   "id": "center-groove",
   "metadata": {},
   "outputs": [
    {
     "data": {
      "text/plain": [
       "'hello'"
      ]
     },
     "execution_count": 22,
     "metadata": {},
     "output_type": "execute_result"
    }
   ],
   "source": [
    "t[1]"
   ]
  },
  {
   "cell_type": "code",
   "execution_count": 23,
   "id": "fundamental-script",
   "metadata": {},
   "outputs": [],
   "source": [
    "i = 2"
   ]
  },
  {
   "cell_type": "code",
   "execution_count": 24,
   "id": "round-suggestion",
   "metadata": {},
   "outputs": [
    {
     "data": {
      "text/plain": [
       "False"
      ]
     },
     "execution_count": 24,
     "metadata": {},
     "output_type": "execute_result"
    }
   ],
   "source": [
    "t[i]"
   ]
  },
  {
   "cell_type": "code",
   "execution_count": 25,
   "id": "suspended-wales",
   "metadata": {},
   "outputs": [
    {
     "ename": "TypeError",
     "evalue": "'tuple' object does not support item assignment",
     "output_type": "error",
     "traceback": [
      "\u001b[0;31m---------------------------------------------------------------------------\u001b[0m",
      "\u001b[0;31mTypeError\u001b[0m                                 Traceback (most recent call last)",
      "\u001b[0;32m<ipython-input-25-718e8eb4134e>\u001b[0m in \u001b[0;36m<module>\u001b[0;34m\u001b[0m\n\u001b[0;32m----> 1\u001b[0;31m \u001b[0mt\u001b[0m\u001b[0;34m[\u001b[0m\u001b[0;36m0\u001b[0m\u001b[0;34m]\u001b[0m \u001b[0;34m=\u001b[0m \u001b[0;36m42\u001b[0m\u001b[0;34m\u001b[0m\u001b[0;34m\u001b[0m\u001b[0m\n\u001b[0m",
      "\u001b[0;31mTypeError\u001b[0m: 'tuple' object does not support item assignment"
     ]
    }
   ],
   "source": [
    "t[0] = 42"
   ]
  },
  {
   "cell_type": "code",
   "execution_count": 26,
   "id": "legitimate-consolidation",
   "metadata": {},
   "outputs": [],
   "source": [
    "# immutable"
   ]
  },
  {
   "cell_type": "code",
   "execution_count": 27,
   "id": "detected-executive",
   "metadata": {},
   "outputs": [
    {
     "data": {
      "text/plain": [
       "(1, 'hello', False, 3.14)"
      ]
     },
     "execution_count": 27,
     "metadata": {},
     "output_type": "execute_result"
    }
   ],
   "source": [
    "t"
   ]
  },
  {
   "cell_type": "code",
   "execution_count": 28,
   "id": "common-defense",
   "metadata": {},
   "outputs": [
    {
     "data": {
      "text/plain": [
       "('hello', False)"
      ]
     },
     "execution_count": 28,
     "metadata": {},
     "output_type": "execute_result"
    }
   ],
   "source": [
    "t[1:3]"
   ]
  },
  {
   "cell_type": "code",
   "execution_count": 29,
   "id": "threaded-mongolia",
   "metadata": {},
   "outputs": [
    {
     "data": {
      "text/plain": [
       "(3.14, False, 'hello', 1)"
      ]
     },
     "execution_count": 29,
     "metadata": {},
     "output_type": "execute_result"
    }
   ],
   "source": [
    "t[::-1]"
   ]
  },
  {
   "cell_type": "code",
   "execution_count": 30,
   "id": "random-fraction",
   "metadata": {},
   "outputs": [],
   "source": [
    "t = (1, (2, 3), False)"
   ]
  },
  {
   "cell_type": "code",
   "execution_count": 31,
   "id": "novel-poster",
   "metadata": {},
   "outputs": [
    {
     "data": {
      "text/plain": [
       "3"
      ]
     },
     "execution_count": 31,
     "metadata": {},
     "output_type": "execute_result"
    }
   ],
   "source": [
    "t[1][1]"
   ]
  },
  {
   "cell_type": "code",
   "execution_count": 32,
   "id": "instructional-paper",
   "metadata": {},
   "outputs": [],
   "source": [
    "t = (1, 'hello', False, 3.14)"
   ]
  },
  {
   "cell_type": "code",
   "execution_count": 33,
   "id": "voluntary-cambodia",
   "metadata": {},
   "outputs": [
    {
     "data": {
      "text/plain": [
       "(1, 'hello', False, 3.14, 1, 'hello', False, 3.14)"
      ]
     },
     "execution_count": 33,
     "metadata": {},
     "output_type": "execute_result"
    }
   ],
   "source": [
    "t + t"
   ]
  },
  {
   "cell_type": "code",
   "execution_count": 34,
   "id": "conceptual-decade",
   "metadata": {},
   "outputs": [
    {
     "data": {
      "text/plain": [
       "(1, 'hello', False, 3.14, 1, 2, 3)"
      ]
     },
     "execution_count": 34,
     "metadata": {},
     "output_type": "execute_result"
    }
   ],
   "source": [
    "t + (1, 2, 3)"
   ]
  },
  {
   "cell_type": "code",
   "execution_count": 35,
   "id": "accompanied-queens",
   "metadata": {},
   "outputs": [
    {
     "data": {
      "text/plain": [
       "(1, 'hello', False, 3.14, 1)"
      ]
     },
     "execution_count": 35,
     "metadata": {},
     "output_type": "execute_result"
    }
   ],
   "source": [
    "t + (1,)"
   ]
  },
  {
   "cell_type": "code",
   "execution_count": 36,
   "id": "legendary-aquarium",
   "metadata": {},
   "outputs": [
    {
     "ename": "TypeError",
     "evalue": "can only concatenate tuple (not \"int\") to tuple",
     "output_type": "error",
     "traceback": [
      "\u001b[0;31m---------------------------------------------------------------------------\u001b[0m",
      "\u001b[0;31mTypeError\u001b[0m                                 Traceback (most recent call last)",
      "\u001b[0;32m<ipython-input-36-a18e5b75b3a8>\u001b[0m in \u001b[0;36m<module>\u001b[0;34m\u001b[0m\n\u001b[0;32m----> 1\u001b[0;31m \u001b[0mt\u001b[0m \u001b[0;34m+\u001b[0m \u001b[0;36m1\u001b[0m\u001b[0;34m\u001b[0m\u001b[0;34m\u001b[0m\u001b[0m\n\u001b[0m",
      "\u001b[0;31mTypeError\u001b[0m: can only concatenate tuple (not \"int\") to tuple"
     ]
    }
   ],
   "source": [
    "t + 1"
   ]
  },
  {
   "cell_type": "code",
   "execution_count": 37,
   "id": "seventh-nickname",
   "metadata": {},
   "outputs": [
    {
     "data": {
      "text/plain": [
       "(1, 'hello', False, 3.14)"
      ]
     },
     "execution_count": 37,
     "metadata": {},
     "output_type": "execute_result"
    }
   ],
   "source": [
    "t + ()"
   ]
  },
  {
   "cell_type": "code",
   "execution_count": 38,
   "id": "substantial-protein",
   "metadata": {},
   "outputs": [
    {
     "data": {
      "text/plain": [
       "(1, 'hello', False, 3.14, 1, 'hello', False, 3.14, 1, 'hello', False, 3.14)"
      ]
     },
     "execution_count": 38,
     "metadata": {},
     "output_type": "execute_result"
    }
   ],
   "source": [
    "t * 3"
   ]
  },
  {
   "cell_type": "markdown",
   "id": "compact-custom",
   "metadata": {},
   "source": [
    "Λεξικογραφική διάταξη για strings, tuples, κ.λπ."
   ]
  },
  {
   "cell_type": "code",
   "execution_count": 39,
   "id": "comparative-contemporary",
   "metadata": {},
   "outputs": [
    {
     "data": {
      "text/plain": [
       "True"
      ]
     },
     "execution_count": 39,
     "metadata": {},
     "output_type": "execute_result"
    }
   ],
   "source": [
    "\"ding\" < \"dong\""
   ]
  },
  {
   "cell_type": "code",
   "execution_count": 40,
   "id": "enabling-quantity",
   "metadata": {},
   "outputs": [
    {
     "data": {
      "text/plain": [
       "True"
      ]
     },
     "execution_count": 40,
     "metadata": {},
     "output_type": "execute_result"
    }
   ],
   "source": [
    "(1, 2, 3, 4) < (1, 3, 5, 7, 8)"
   ]
  },
  {
   "cell_type": "markdown",
   "id": "found-economy",
   "metadata": {},
   "source": [
    "## Λίστες"
   ]
  },
  {
   "cell_type": "code",
   "execution_count": 41,
   "id": "perceived-bennett",
   "metadata": {},
   "outputs": [],
   "source": [
    "l = [1, 2, 3, 4]"
   ]
  },
  {
   "cell_type": "code",
   "execution_count": 42,
   "id": "acting-question",
   "metadata": {},
   "outputs": [
    {
     "data": {
      "text/plain": [
       "3"
      ]
     },
     "execution_count": 42,
     "metadata": {},
     "output_type": "execute_result"
    }
   ],
   "source": [
    "l[2]"
   ]
  },
  {
   "cell_type": "code",
   "execution_count": 43,
   "id": "instructional-ethics",
   "metadata": {},
   "outputs": [
    {
     "data": {
      "text/plain": [
       "[2, 3]"
      ]
     },
     "execution_count": 43,
     "metadata": {},
     "output_type": "execute_result"
    }
   ],
   "source": [
    "l[1:3]"
   ]
  },
  {
   "cell_type": "code",
   "execution_count": 44,
   "id": "surgical-swiss",
   "metadata": {},
   "outputs": [
    {
     "data": {
      "text/plain": [
       "[4, 3, 2, 1]"
      ]
     },
     "execution_count": 44,
     "metadata": {},
     "output_type": "execute_result"
    }
   ],
   "source": [
    "l[::-1]"
   ]
  },
  {
   "cell_type": "code",
   "execution_count": 45,
   "id": "seven-square",
   "metadata": {},
   "outputs": [],
   "source": [
    "l[3] = 42"
   ]
  },
  {
   "cell_type": "code",
   "execution_count": 46,
   "id": "minus-english",
   "metadata": {},
   "outputs": [
    {
     "data": {
      "text/plain": [
       "[1, 2, 3, 42]"
      ]
     },
     "execution_count": 46,
     "metadata": {},
     "output_type": "execute_result"
    }
   ],
   "source": [
    "l"
   ]
  },
  {
   "cell_type": "code",
   "execution_count": 47,
   "id": "pending-gibraltar",
   "metadata": {},
   "outputs": [],
   "source": [
    "# mutable"
   ]
  },
  {
   "cell_type": "code",
   "execution_count": 48,
   "id": "linear-count",
   "metadata": {},
   "outputs": [],
   "source": [
    "del l[1]"
   ]
  },
  {
   "cell_type": "code",
   "execution_count": 49,
   "id": "illegal-depression",
   "metadata": {},
   "outputs": [
    {
     "data": {
      "text/plain": [
       "[1, 3, 42]"
      ]
     },
     "execution_count": 49,
     "metadata": {},
     "output_type": "execute_result"
    }
   ],
   "source": [
    "l"
   ]
  },
  {
   "cell_type": "code",
   "execution_count": 50,
   "id": "tough-council",
   "metadata": {},
   "outputs": [
    {
     "data": {
      "text/plain": [
       "'HELLO'"
      ]
     },
     "execution_count": 50,
     "metadata": {},
     "output_type": "execute_result"
    }
   ],
   "source": [
    "\"hello\".upper()"
   ]
  },
  {
   "cell_type": "code",
   "execution_count": 51,
   "id": "composite-impossible",
   "metadata": {},
   "outputs": [],
   "source": [
    "l.append(5)"
   ]
  },
  {
   "cell_type": "code",
   "execution_count": 52,
   "id": "whole-catch",
   "metadata": {},
   "outputs": [
    {
     "data": {
      "text/plain": [
       "[1, 3, 42, 5]"
      ]
     },
     "execution_count": 52,
     "metadata": {},
     "output_type": "execute_result"
    }
   ],
   "source": [
    "l"
   ]
  },
  {
   "cell_type": "code",
   "execution_count": 53,
   "id": "severe-moses",
   "metadata": {},
   "outputs": [
    {
     "data": {
      "text/plain": [
       "5"
      ]
     },
     "execution_count": 53,
     "metadata": {},
     "output_type": "execute_result"
    }
   ],
   "source": [
    "l.pop()"
   ]
  },
  {
   "cell_type": "code",
   "execution_count": 54,
   "id": "double-easter",
   "metadata": {},
   "outputs": [
    {
     "data": {
      "text/plain": [
       "[1, 3, 42]"
      ]
     },
     "execution_count": 54,
     "metadata": {},
     "output_type": "execute_result"
    }
   ],
   "source": [
    "l"
   ]
  },
  {
   "cell_type": "code",
   "execution_count": 55,
   "id": "casual-system",
   "metadata": {},
   "outputs": [],
   "source": [
    "L = [[1, 2, 3], [4, 5, 6]]"
   ]
  },
  {
   "cell_type": "code",
   "execution_count": 56,
   "id": "united-humanity",
   "metadata": {},
   "outputs": [
    {
     "data": {
      "text/plain": [
       "[[1, 2, 3], [4, 5, 6]]"
      ]
     },
     "execution_count": 56,
     "metadata": {},
     "output_type": "execute_result"
    }
   ],
   "source": [
    "L"
   ]
  },
  {
   "cell_type": "code",
   "execution_count": 57,
   "id": "verbal-humidity",
   "metadata": {},
   "outputs": [
    {
     "data": {
      "text/plain": [
       "6"
      ]
     },
     "execution_count": 57,
     "metadata": {},
     "output_type": "execute_result"
    }
   ],
   "source": [
    "L[1][2]"
   ]
  },
  {
   "cell_type": "code",
   "execution_count": 58,
   "id": "respected-security",
   "metadata": {},
   "outputs": [],
   "source": [
    "L1 = [1, 2, 3]"
   ]
  },
  {
   "cell_type": "code",
   "execution_count": 59,
   "id": "residential-operation",
   "metadata": {},
   "outputs": [],
   "source": [
    "L2 = [L1, L1, L1]"
   ]
  },
  {
   "cell_type": "code",
   "execution_count": 60,
   "id": "necessary-commissioner",
   "metadata": {},
   "outputs": [
    {
     "data": {
      "text/plain": [
       "[[1, 2, 3], [1, 2, 3], [1, 2, 3]]"
      ]
     },
     "execution_count": 60,
     "metadata": {},
     "output_type": "execute_result"
    }
   ],
   "source": [
    "L2"
   ]
  },
  {
   "cell_type": "code",
   "execution_count": 61,
   "id": "coupled-whole",
   "metadata": {},
   "outputs": [],
   "source": [
    "L2[1][1] = 42"
   ]
  },
  {
   "cell_type": "markdown",
   "id": "musical-patrol",
   "metadata": {},
   "source": [
    "Προσοχή τώρα!  Δείτε την εξήγηση στο βίντεο της παράδοσης!"
   ]
  },
  {
   "cell_type": "code",
   "execution_count": 62,
   "id": "surprised-thomson",
   "metadata": {},
   "outputs": [
    {
     "data": {
      "text/plain": [
       "[[1, 42, 3], [1, 42, 3], [1, 42, 3]]"
      ]
     },
     "execution_count": 62,
     "metadata": {},
     "output_type": "execute_result"
    }
   ],
   "source": [
    "L2"
   ]
  },
  {
   "cell_type": "code",
   "execution_count": 63,
   "id": "upper-retail",
   "metadata": {},
   "outputs": [
    {
     "data": {
      "text/plain": [
       "[1, 42, 3]"
      ]
     },
     "execution_count": 63,
     "metadata": {},
     "output_type": "execute_result"
    }
   ],
   "source": [
    "L1"
   ]
  },
  {
   "cell_type": "code",
   "execution_count": 64,
   "id": "measured-mining",
   "metadata": {},
   "outputs": [],
   "source": [
    "L1 = [1, 2, 3]\n",
    "L2 = [L1[:], L1[:], L1[:]]"
   ]
  },
  {
   "cell_type": "code",
   "execution_count": 65,
   "id": "extensive-cross",
   "metadata": {},
   "outputs": [
    {
     "data": {
      "text/plain": [
       "[[1, 2, 3], [1, 2, 3], [1, 2, 3]]"
      ]
     },
     "execution_count": 65,
     "metadata": {},
     "output_type": "execute_result"
    }
   ],
   "source": [
    "L2"
   ]
  },
  {
   "cell_type": "code",
   "execution_count": 66,
   "id": "numeric-breed",
   "metadata": {},
   "outputs": [],
   "source": [
    "L2[1][1] = 42"
   ]
  },
  {
   "cell_type": "code",
   "execution_count": 67,
   "id": "laden-marine",
   "metadata": {},
   "outputs": [
    {
     "data": {
      "text/plain": [
       "[[1, 2, 3], [1, 42, 3], [1, 2, 3]]"
      ]
     },
     "execution_count": 67,
     "metadata": {},
     "output_type": "execute_result"
    }
   ],
   "source": [
    "L2"
   ]
  },
  {
   "cell_type": "markdown",
   "id": "convenient-providence",
   "metadata": {},
   "source": [
    "## Sequences και for loops"
   ]
  },
  {
   "cell_type": "code",
   "execution_count": 68,
   "id": "wanted-dietary",
   "metadata": {},
   "outputs": [
    {
     "name": "stdout",
     "output_type": "stream",
     "text": [
      "h\n",
      "e\n",
      "l\n",
      "l\n",
      "o\n",
      " \n",
      "w\n",
      "o\n",
      "r\n",
      "l\n",
      "d\n"
     ]
    }
   ],
   "source": [
    "for x in \"hello world\": print(x)"
   ]
  },
  {
   "cell_type": "code",
   "execution_count": 69,
   "id": "unique-benjamin",
   "metadata": {},
   "outputs": [
    {
     "name": "stdout",
     "output_type": "stream",
     "text": [
      "1\n",
      "2\n",
      "Hello\n",
      "3\n",
      "4\n"
     ]
    }
   ],
   "source": [
    "for x in (1, 2, \"Hello\", 3, 4): print(x)"
   ]
  },
  {
   "cell_type": "code",
   "execution_count": 70,
   "id": "driven-majority",
   "metadata": {},
   "outputs": [
    {
     "name": "stdout",
     "output_type": "stream",
     "text": [
      "1\n",
      "2\n",
      "Hello\n",
      "3\n",
      "4\n"
     ]
    }
   ],
   "source": [
    "for x in [1, 2, \"Hello\", 3, 4]: print(x)"
   ]
  },
  {
   "cell_type": "code",
   "execution_count": 71,
   "id": "ideal-accommodation",
   "metadata": {},
   "outputs": [],
   "source": [
    "L = [1, 2, 3]"
   ]
  },
  {
   "cell_type": "code",
   "execution_count": 72,
   "id": "entertaining-venezuela",
   "metadata": {},
   "outputs": [],
   "source": [
    "for x in L: x = 0"
   ]
  },
  {
   "cell_type": "code",
   "execution_count": 73,
   "id": "understood-speaking",
   "metadata": {},
   "outputs": [
    {
     "data": {
      "text/plain": [
       "[1, 2, 3]"
      ]
     },
     "execution_count": 73,
     "metadata": {},
     "output_type": "execute_result"
    }
   ],
   "source": [
    "L"
   ]
  },
  {
   "cell_type": "code",
   "execution_count": 74,
   "id": "statewide-safety",
   "metadata": {},
   "outputs": [
    {
     "data": {
      "text/plain": [
       "('a', 'b', 'c')"
      ]
     },
     "execution_count": 74,
     "metadata": {},
     "output_type": "execute_result"
    }
   ],
   "source": [
    "tuple(list(\"abc\"))"
   ]
  },
  {
   "cell_type": "markdown",
   "id": "complete-duncan",
   "metadata": {},
   "source": [
    "## Σύνολα"
   ]
  },
  {
   "cell_type": "markdown",
   "id": "eight-humidity",
   "metadata": {},
   "source": [
    "Σαν τα `std::set` της C++ αλλά υλοποιημένα με πίνακες κατακερματισμού."
   ]
  },
  {
   "cell_type": "code",
   "execution_count": 75,
   "id": "curious-animal",
   "metadata": {},
   "outputs": [],
   "source": [
    "s = {1, 2, 5, 7}"
   ]
  },
  {
   "cell_type": "code",
   "execution_count": 76,
   "id": "prerequisite-reform",
   "metadata": {},
   "outputs": [
    {
     "data": {
      "text/plain": [
       "{1, 2, 5, 7}"
      ]
     },
     "execution_count": 76,
     "metadata": {},
     "output_type": "execute_result"
    }
   ],
   "source": [
    "s"
   ]
  },
  {
   "cell_type": "code",
   "execution_count": 77,
   "id": "relevant-insight",
   "metadata": {},
   "outputs": [
    {
     "data": {
      "text/plain": [
       "True"
      ]
     },
     "execution_count": 77,
     "metadata": {},
     "output_type": "execute_result"
    }
   ],
   "source": [
    "5 in s"
   ]
  },
  {
   "cell_type": "code",
   "execution_count": 78,
   "id": "split-retreat",
   "metadata": {},
   "outputs": [
    {
     "data": {
      "text/plain": [
       "False"
      ]
     },
     "execution_count": 78,
     "metadata": {},
     "output_type": "execute_result"
    }
   ],
   "source": [
    "6 in s"
   ]
  },
  {
   "cell_type": "code",
   "execution_count": 79,
   "id": "auburn-catholic",
   "metadata": {},
   "outputs": [],
   "source": [
    "t = {0, 1, 4, 9, 16}"
   ]
  },
  {
   "cell_type": "code",
   "execution_count": 80,
   "id": "third-community",
   "metadata": {},
   "outputs": [
    {
     "data": {
      "text/plain": [
       "4"
      ]
     },
     "execution_count": 80,
     "metadata": {},
     "output_type": "execute_result"
    }
   ],
   "source": [
    "len(s)"
   ]
  },
  {
   "cell_type": "code",
   "execution_count": 81,
   "id": "statistical-average",
   "metadata": {},
   "outputs": [
    {
     "data": {
      "text/plain": [
       "{1}"
      ]
     },
     "execution_count": 81,
     "metadata": {},
     "output_type": "execute_result"
    }
   ],
   "source": [
    "t & s"
   ]
  },
  {
   "cell_type": "code",
   "execution_count": 82,
   "id": "jewish-cosmetic",
   "metadata": {},
   "outputs": [
    {
     "data": {
      "text/plain": [
       "{0, 1, 2, 4, 5, 7, 9, 16}"
      ]
     },
     "execution_count": 82,
     "metadata": {},
     "output_type": "execute_result"
    }
   ],
   "source": [
    "t | s"
   ]
  },
  {
   "cell_type": "code",
   "execution_count": 83,
   "id": "patent-journey",
   "metadata": {},
   "outputs": [
    {
     "data": {
      "text/plain": [
       "{0, 4, 9, 16}"
      ]
     },
     "execution_count": 83,
     "metadata": {},
     "output_type": "execute_result"
    }
   ],
   "source": [
    "t - s"
   ]
  },
  {
   "cell_type": "code",
   "execution_count": 84,
   "id": "fundamental-magazine",
   "metadata": {},
   "outputs": [
    {
     "data": {
      "text/plain": [
       "{2, 5, 7}"
      ]
     },
     "execution_count": 84,
     "metadata": {},
     "output_type": "execute_result"
    }
   ],
   "source": [
    "s - t"
   ]
  },
  {
   "cell_type": "markdown",
   "id": "relative-census",
   "metadata": {},
   "source": [
    "Ο τελεστής `in` δουλεύει (λιγότερο αποδοτικά) και σε άλλες ακολουθίες δεδομένων."
   ]
  },
  {
   "cell_type": "code",
   "execution_count": 85,
   "id": "after-brass",
   "metadata": {},
   "outputs": [
    {
     "data": {
      "text/plain": [
       "True"
      ]
     },
     "execution_count": 85,
     "metadata": {},
     "output_type": "execute_result"
    }
   ],
   "source": [
    "3 in [1, 2, 3, 4, 5, 6]"
   ]
  },
  {
   "cell_type": "code",
   "execution_count": 86,
   "id": "civilian-galaxy",
   "metadata": {},
   "outputs": [
    {
     "data": {
      "text/plain": [
       "False"
      ]
     },
     "execution_count": 86,
     "metadata": {},
     "output_type": "execute_result"
    }
   ],
   "source": [
    "3 in (1, 2, 4, 5)"
   ]
  },
  {
   "cell_type": "code",
   "execution_count": 87,
   "id": "allied-accident",
   "metadata": {},
   "outputs": [
    {
     "data": {
      "text/plain": [
       "True"
      ]
     },
     "execution_count": 87,
     "metadata": {},
     "output_type": "execute_result"
    }
   ],
   "source": [
    "'a' in 'haha'"
   ]
  },
  {
   "cell_type": "code",
   "execution_count": 88,
   "id": "orange-jenny",
   "metadata": {},
   "outputs": [
    {
     "data": {
      "text/plain": [
       "False"
      ]
     },
     "execution_count": 88,
     "metadata": {},
     "output_type": "execute_result"
    }
   ],
   "source": [
    "s <= t"
   ]
  },
  {
   "cell_type": "code",
   "execution_count": 89,
   "id": "dimensional-accommodation",
   "metadata": {},
   "outputs": [
    {
     "data": {
      "text/plain": [
       "False"
      ]
     },
     "execution_count": 89,
     "metadata": {},
     "output_type": "execute_result"
    }
   ],
   "source": [
    "t <= s"
   ]
  },
  {
   "cell_type": "code",
   "execution_count": 90,
   "id": "available-builder",
   "metadata": {},
   "outputs": [
    {
     "data": {
      "text/plain": [
       "{0, 1, 4, 9, 16}"
      ]
     },
     "execution_count": 90,
     "metadata": {},
     "output_type": "execute_result"
    }
   ],
   "source": [
    "t"
   ]
  },
  {
   "cell_type": "code",
   "execution_count": 91,
   "id": "serial-shock",
   "metadata": {},
   "outputs": [
    {
     "data": {
      "text/plain": [
       "True"
      ]
     },
     "execution_count": 91,
     "metadata": {},
     "output_type": "execute_result"
    }
   ],
   "source": [
    "{1, 4} <= t"
   ]
  },
  {
   "cell_type": "code",
   "execution_count": 92,
   "id": "available-brisbane",
   "metadata": {},
   "outputs": [
    {
     "data": {
      "text/plain": [
       "True"
      ]
     },
     "execution_count": 92,
     "metadata": {},
     "output_type": "execute_result"
    }
   ],
   "source": [
    "{4, 1} < t"
   ]
  },
  {
   "cell_type": "code",
   "execution_count": 93,
   "id": "aboriginal-legislation",
   "metadata": {},
   "outputs": [
    {
     "data": {
      "text/plain": [
       "{0, 1, 4, 9, 16}"
      ]
     },
     "execution_count": 93,
     "metadata": {},
     "output_type": "execute_result"
    }
   ],
   "source": [
    "t"
   ]
  },
  {
   "cell_type": "code",
   "execution_count": 94,
   "id": "incorporated-allen",
   "metadata": {},
   "outputs": [],
   "source": [
    "t.add(99)"
   ]
  },
  {
   "cell_type": "code",
   "execution_count": 95,
   "id": "ranging-ticket",
   "metadata": {},
   "outputs": [
    {
     "data": {
      "text/plain": [
       "{0, 1, 4, 9, 16, 99}"
      ]
     },
     "execution_count": 95,
     "metadata": {},
     "output_type": "execute_result"
    }
   ],
   "source": [
    "t"
   ]
  },
  {
   "cell_type": "code",
   "execution_count": 96,
   "id": "victorian-cheese",
   "metadata": {},
   "outputs": [],
   "source": [
    "t.remove(9)"
   ]
  },
  {
   "cell_type": "code",
   "execution_count": 97,
   "id": "prompt-huntington",
   "metadata": {},
   "outputs": [
    {
     "data": {
      "text/plain": [
       "{0, 1, 4, 16, 99}"
      ]
     },
     "execution_count": 97,
     "metadata": {},
     "output_type": "execute_result"
    }
   ],
   "source": [
    "t"
   ]
  },
  {
   "cell_type": "code",
   "execution_count": 98,
   "id": "thousand-camping",
   "metadata": {},
   "outputs": [],
   "source": [
    "s = {1, 2, 7, 99}"
   ]
  },
  {
   "cell_type": "code",
   "execution_count": 99,
   "id": "processed-monaco",
   "metadata": {},
   "outputs": [
    {
     "name": "stdout",
     "output_type": "stream",
     "text": [
      "1\n",
      "2\n",
      "99\n",
      "7\n"
     ]
    }
   ],
   "source": [
    "for x in s: print(x)"
   ]
  },
  {
   "cell_type": "code",
   "execution_count": 100,
   "id": "functioning-cincinnati",
   "metadata": {},
   "outputs": [
    {
     "data": {
      "text/plain": [
       "[3, 5, 7, 17, 42]"
      ]
     },
     "execution_count": 100,
     "metadata": {},
     "output_type": "execute_result"
    }
   ],
   "source": [
    "sorted([42, 17, 3, 7, 5])"
   ]
  },
  {
   "cell_type": "code",
   "execution_count": 101,
   "id": "engaged-intelligence",
   "metadata": {},
   "outputs": [
    {
     "data": {
      "text/plain": [
       "[1, 2, 7, 99]"
      ]
     },
     "execution_count": 101,
     "metadata": {},
     "output_type": "execute_result"
    }
   ],
   "source": [
    "sorted(s)"
   ]
  },
  {
   "cell_type": "code",
   "execution_count": 102,
   "id": "later-castle",
   "metadata": {},
   "outputs": [
    {
     "name": "stdout",
     "output_type": "stream",
     "text": [
      "1\n",
      "2\n",
      "7\n",
      "99\n"
     ]
    }
   ],
   "source": [
    "for x in sorted(s): print(x)"
   ]
  },
  {
   "cell_type": "code",
   "execution_count": 103,
   "id": "prostate-borough",
   "metadata": {},
   "outputs": [],
   "source": [
    "s = {1, 2, \"hello\", False}"
   ]
  },
  {
   "cell_type": "code",
   "execution_count": 104,
   "id": "modified-distribution",
   "metadata": {},
   "outputs": [
    {
     "name": "stdout",
     "output_type": "stream",
     "text": [
      "hello\n",
      "1\n",
      "2\n",
      "False\n"
     ]
    }
   ],
   "source": [
    "for x in s: print(x)"
   ]
  },
  {
   "cell_type": "code",
   "execution_count": 105,
   "id": "former-discount",
   "metadata": {},
   "outputs": [
    {
     "ename": "TypeError",
     "evalue": "'<' not supported between instances of 'int' and 'str'",
     "output_type": "error",
     "traceback": [
      "\u001b[0;31m---------------------------------------------------------------------------\u001b[0m",
      "\u001b[0;31mTypeError\u001b[0m                                 Traceback (most recent call last)",
      "\u001b[0;32m<ipython-input-105-71068da80cad>\u001b[0m in \u001b[0;36m<module>\u001b[0;34m\u001b[0m\n\u001b[0;32m----> 1\u001b[0;31m \u001b[0;32mfor\u001b[0m \u001b[0mx\u001b[0m \u001b[0;32min\u001b[0m \u001b[0msorted\u001b[0m\u001b[0;34m(\u001b[0m\u001b[0ms\u001b[0m\u001b[0;34m)\u001b[0m\u001b[0;34m:\u001b[0m \u001b[0mprint\u001b[0m\u001b[0;34m(\u001b[0m\u001b[0mx\u001b[0m\u001b[0;34m)\u001b[0m\u001b[0;34m\u001b[0m\u001b[0;34m\u001b[0m\u001b[0m\n\u001b[0m",
      "\u001b[0;31mTypeError\u001b[0m: '<' not supported between instances of 'int' and 'str'"
     ]
    }
   ],
   "source": [
    "for x in sorted(s): print(x)"
   ]
  },
  {
   "cell_type": "code",
   "execution_count": 106,
   "id": "parental-rogers",
   "metadata": {},
   "outputs": [
    {
     "ename": "TypeError",
     "evalue": "'<' not supported between instances of 'str' and 'int'",
     "output_type": "error",
     "traceback": [
      "\u001b[0;31m---------------------------------------------------------------------------\u001b[0m",
      "\u001b[0;31mTypeError\u001b[0m                                 Traceback (most recent call last)",
      "\u001b[0;32m<ipython-input-106-9f84af0e928a>\u001b[0m in \u001b[0;36m<module>\u001b[0;34m\u001b[0m\n\u001b[0;32m----> 1\u001b[0;31m \u001b[0;34m\"hello\"\u001b[0m \u001b[0;34m<\u001b[0m \u001b[0;36m2\u001b[0m\u001b[0;34m\u001b[0m\u001b[0;34m\u001b[0m\u001b[0m\n\u001b[0m",
      "\u001b[0;31mTypeError\u001b[0m: '<' not supported between instances of 'str' and 'int'"
     ]
    }
   ],
   "source": [
    "\"hello\" < 2"
   ]
  },
  {
   "cell_type": "markdown",
   "id": "authentic-street",
   "metadata": {},
   "source": [
    "Δεν μπορούν να μπουν mutable δεδομένα σε ένα set!"
   ]
  },
  {
   "cell_type": "code",
   "execution_count": 107,
   "id": "sufficient-outdoors",
   "metadata": {},
   "outputs": [
    {
     "ename": "TypeError",
     "evalue": "unhashable type: 'list'",
     "output_type": "error",
     "traceback": [
      "\u001b[0;31m---------------------------------------------------------------------------\u001b[0m",
      "\u001b[0;31mTypeError\u001b[0m                                 Traceback (most recent call last)",
      "\u001b[0;32m<ipython-input-107-3a6c045cf5eb>\u001b[0m in \u001b[0;36m<module>\u001b[0;34m\u001b[0m\n\u001b[0;32m----> 1\u001b[0;31m \u001b[0ms\u001b[0m \u001b[0;34m=\u001b[0m \u001b[0;34m{\u001b[0m\u001b[0;36m1\u001b[0m\u001b[0;34m,\u001b[0m \u001b[0;36m2\u001b[0m\u001b[0;34m,\u001b[0m \u001b[0;34m[\u001b[0m\u001b[0;36m3\u001b[0m\u001b[0;34m,\u001b[0m \u001b[0;36m4\u001b[0m\u001b[0;34m]\u001b[0m\u001b[0;34m}\u001b[0m\u001b[0;34m\u001b[0m\u001b[0;34m\u001b[0m\u001b[0m\n\u001b[0m",
      "\u001b[0;31mTypeError\u001b[0m: unhashable type: 'list'"
     ]
    }
   ],
   "source": [
    "s = {1, 2, [3, 4]}"
   ]
  },
  {
   "cell_type": "code",
   "execution_count": 108,
   "id": "catholic-trailer",
   "metadata": {},
   "outputs": [
    {
     "ename": "TypeError",
     "evalue": "unhashable type: 'set'",
     "output_type": "error",
     "traceback": [
      "\u001b[0;31m---------------------------------------------------------------------------\u001b[0m",
      "\u001b[0;31mTypeError\u001b[0m                                 Traceback (most recent call last)",
      "\u001b[0;32m<ipython-input-108-2f8f3764c0fb>\u001b[0m in \u001b[0;36m<module>\u001b[0;34m\u001b[0m\n\u001b[0;32m----> 1\u001b[0;31m \u001b[0ms\u001b[0m \u001b[0;34m=\u001b[0m \u001b[0;34m{\u001b[0m\u001b[0;36m1\u001b[0m\u001b[0;34m,\u001b[0m \u001b[0;36m2\u001b[0m\u001b[0;34m,\u001b[0m \u001b[0;34m{\u001b[0m\u001b[0;36m3\u001b[0m\u001b[0;34m,\u001b[0m \u001b[0;36m4\u001b[0m\u001b[0;34m}\u001b[0m\u001b[0;34m}\u001b[0m\u001b[0;34m\u001b[0m\u001b[0;34m\u001b[0m\u001b[0m\n\u001b[0m",
      "\u001b[0;31mTypeError\u001b[0m: unhashable type: 'set'"
     ]
    }
   ],
   "source": [
    "s = {1, 2, {3, 4}}"
   ]
  },
  {
   "cell_type": "code",
   "execution_count": 109,
   "id": "vulnerable-evolution",
   "metadata": {},
   "outputs": [],
   "source": [
    "s = {1, 2, (3, 4)}"
   ]
  },
  {
   "cell_type": "markdown",
   "id": "framed-fault",
   "metadata": {},
   "source": [
    "Τύπος immutable συνόλων: `frozenset`"
   ]
  },
  {
   "cell_type": "code",
   "execution_count": 110,
   "id": "attached-package",
   "metadata": {},
   "outputs": [
    {
     "ename": "SyntaxError",
     "evalue": "invalid syntax (<ipython-input-110-42f9c7277f6a>, line 1)",
     "output_type": "error",
     "traceback": [
      "\u001b[0;36m  File \u001b[0;32m\"<ipython-input-110-42f9c7277f6a>\"\u001b[0;36m, line \u001b[0;32m1\u001b[0m\n\u001b[0;31m    Τύπος immutable συνόλων: `frozenset`f = frozenset({1, 2, 3, 4})\u001b[0m\n\u001b[0m          ^\u001b[0m\n\u001b[0;31mSyntaxError\u001b[0m\u001b[0;31m:\u001b[0m invalid syntax\n"
     ]
    }
   ],
   "source": [
    "Τύπος immutable συνόλων: `frozenset`f = frozenset({1, 2, 3, 4})"
   ]
  },
  {
   "cell_type": "code",
   "execution_count": 111,
   "id": "regulation-philosophy",
   "metadata": {},
   "outputs": [
    {
     "ename": "NameError",
     "evalue": "name 'f' is not defined",
     "output_type": "error",
     "traceback": [
      "\u001b[0;31m---------------------------------------------------------------------------\u001b[0m",
      "\u001b[0;31mNameError\u001b[0m                                 Traceback (most recent call last)",
      "\u001b[0;32m<ipython-input-111-ec8a0cbb22ab>\u001b[0m in \u001b[0;36m<module>\u001b[0;34m\u001b[0m\n\u001b[0;32m----> 1\u001b[0;31m \u001b[0mf\u001b[0m\u001b[0;34m.\u001b[0m\u001b[0madd\u001b[0m\u001b[0;34m(\u001b[0m\u001b[0;36m5\u001b[0m\u001b[0;34m)\u001b[0m\u001b[0;34m\u001b[0m\u001b[0;34m\u001b[0m\u001b[0m\n\u001b[0m",
      "\u001b[0;31mNameError\u001b[0m: name 'f' is not defined"
     ]
    }
   ],
   "source": [
    "f.add(5)"
   ]
  },
  {
   "cell_type": "markdown",
   "id": "sticky-mentor",
   "metadata": {},
   "source": [
    "# Λεξικά (dictionaries)"
   ]
  },
  {
   "cell_type": "markdown",
   "id": "homeless-logging",
   "metadata": {},
   "source": [
    "Σαν τα `std::map` της C++ αλλά υλοποιημένα με πίνακες κατακερματισμού."
   ]
  },
  {
   "cell_type": "code",
   "execution_count": 112,
   "id": "permanent-developer",
   "metadata": {},
   "outputs": [],
   "source": [
    "d = {}"
   ]
  },
  {
   "cell_type": "code",
   "execution_count": 113,
   "id": "excellent-bonus",
   "metadata": {},
   "outputs": [],
   "source": [
    "d[1] = 42"
   ]
  },
  {
   "cell_type": "code",
   "execution_count": 114,
   "id": "polished-plaintiff",
   "metadata": {},
   "outputs": [],
   "source": [
    "d[2] = 17"
   ]
  },
  {
   "cell_type": "code",
   "execution_count": 115,
   "id": "powerful-demographic",
   "metadata": {},
   "outputs": [
    {
     "data": {
      "text/plain": [
       "{1: 42, 2: 17}"
      ]
     },
     "execution_count": 115,
     "metadata": {},
     "output_type": "execute_result"
    }
   ],
   "source": [
    "d"
   ]
  },
  {
   "cell_type": "code",
   "execution_count": 116,
   "id": "charitable-denial",
   "metadata": {},
   "outputs": [],
   "source": [
    "d[3] = \"hello\""
   ]
  },
  {
   "cell_type": "code",
   "execution_count": 117,
   "id": "contained-forward",
   "metadata": {},
   "outputs": [],
   "source": [
    "d[\"yes\"] = \"no\""
   ]
  },
  {
   "cell_type": "code",
   "execution_count": 118,
   "id": "human-bulgarian",
   "metadata": {},
   "outputs": [
    {
     "data": {
      "text/plain": [
       "{1: 42, 2: 17, 3: 'hello', 'yes': 'no'}"
      ]
     },
     "execution_count": 118,
     "metadata": {},
     "output_type": "execute_result"
    }
   ],
   "source": [
    "d"
   ]
  },
  {
   "cell_type": "code",
   "execution_count": 119,
   "id": "unknown-apple",
   "metadata": {},
   "outputs": [
    {
     "name": "stdout",
     "output_type": "stream",
     "text": [
      "1\n",
      "2\n",
      "3\n",
      "yes\n"
     ]
    }
   ],
   "source": [
    "for key in d: print(key)"
   ]
  },
  {
   "cell_type": "code",
   "execution_count": 120,
   "id": "theoretical-repeat",
   "metadata": {},
   "outputs": [
    {
     "name": "stdout",
     "output_type": "stream",
     "text": [
      "1 maps to 42\n",
      "2 maps to 17\n",
      "3 maps to hello\n",
      "yes maps to no\n"
     ]
    }
   ],
   "source": [
    "for key in d: print(key, \"maps to\", d[key])"
   ]
  },
  {
   "cell_type": "code",
   "execution_count": 121,
   "id": "specialized-tolerance",
   "metadata": {},
   "outputs": [
    {
     "data": {
      "text/plain": [
       "[1, 2, 3, 'yes']"
      ]
     },
     "execution_count": 121,
     "metadata": {},
     "output_type": "execute_result"
    }
   ],
   "source": [
    "list(d.keys())"
   ]
  },
  {
   "cell_type": "code",
   "execution_count": 122,
   "id": "selected-identifier",
   "metadata": {},
   "outputs": [
    {
     "data": {
      "text/plain": [
       "[42, 17, 'hello', 'no']"
      ]
     },
     "execution_count": 122,
     "metadata": {},
     "output_type": "execute_result"
    }
   ],
   "source": [
    "list(d.values())"
   ]
  },
  {
   "cell_type": "code",
   "execution_count": 123,
   "id": "competent-violin",
   "metadata": {},
   "outputs": [
    {
     "data": {
      "text/plain": [
       "[(1, 42), (2, 17), (3, 'hello'), ('yes', 'no')]"
      ]
     },
     "execution_count": 123,
     "metadata": {},
     "output_type": "execute_result"
    }
   ],
   "source": [
    "list(d.items())"
   ]
  },
  {
   "cell_type": "code",
   "execution_count": 124,
   "id": "thirty-advance",
   "metadata": {},
   "outputs": [
    {
     "data": {
      "text/plain": [
       "dict_items([(1, 42), (2, 17), (3, 'hello'), ('yes', 'no')])"
      ]
     },
     "execution_count": 124,
     "metadata": {},
     "output_type": "execute_result"
    }
   ],
   "source": [
    "d.items()"
   ]
  },
  {
   "cell_type": "code",
   "execution_count": 125,
   "id": "opposed-composition",
   "metadata": {},
   "outputs": [
    {
     "name": "stdout",
     "output_type": "stream",
     "text": [
      "1 maps to 42\n",
      "2 maps to 17\n",
      "3 maps to hello\n",
      "yes maps to no\n"
     ]
    }
   ],
   "source": [
    "for key, value in d.items(): print(key, \"maps to\", value)"
   ]
  },
  {
   "cell_type": "code",
   "execution_count": 126,
   "id": "prescribed-audience",
   "metadata": {},
   "outputs": [
    {
     "data": {
      "text/plain": [
       "{1: 42, 2: 17, 3: 'hello', 'yes': 'no'}"
      ]
     },
     "execution_count": 126,
     "metadata": {},
     "output_type": "execute_result"
    }
   ],
   "source": [
    "d"
   ]
  },
  {
   "cell_type": "code",
   "execution_count": 127,
   "id": "weighted-stuff",
   "metadata": {},
   "outputs": [
    {
     "data": {
      "text/plain": [
       "True"
      ]
     },
     "execution_count": 127,
     "metadata": {},
     "output_type": "execute_result"
    }
   ],
   "source": [
    "2 in d"
   ]
  },
  {
   "cell_type": "code",
   "execution_count": 128,
   "id": "successful-patch",
   "metadata": {},
   "outputs": [
    {
     "data": {
      "text/plain": [
       "False"
      ]
     },
     "execution_count": 128,
     "metadata": {},
     "output_type": "execute_result"
    }
   ],
   "source": [
    "4 in d"
   ]
  },
  {
   "cell_type": "code",
   "execution_count": 129,
   "id": "approved-covering",
   "metadata": {},
   "outputs": [
    {
     "data": {
      "text/plain": [
       "17"
      ]
     },
     "execution_count": 129,
     "metadata": {},
     "output_type": "execute_result"
    }
   ],
   "source": [
    "d[2]"
   ]
  },
  {
   "cell_type": "code",
   "execution_count": 130,
   "id": "subjective-riding",
   "metadata": {},
   "outputs": [
    {
     "data": {
      "text/plain": [
       "'hello'"
      ]
     },
     "execution_count": 130,
     "metadata": {},
     "output_type": "execute_result"
    }
   ],
   "source": [
    "d[3]"
   ]
  },
  {
   "cell_type": "code",
   "execution_count": 131,
   "id": "sealed-danger",
   "metadata": {},
   "outputs": [
    {
     "ename": "KeyError",
     "evalue": "4",
     "output_type": "error",
     "traceback": [
      "\u001b[0;31m---------------------------------------------------------------------------\u001b[0m",
      "\u001b[0;31mKeyError\u001b[0m                                  Traceback (most recent call last)",
      "\u001b[0;32m<ipython-input-131-31c4f4ce9503>\u001b[0m in \u001b[0;36m<module>\u001b[0;34m\u001b[0m\n\u001b[0;32m----> 1\u001b[0;31m \u001b[0md\u001b[0m\u001b[0;34m[\u001b[0m\u001b[0;36m4\u001b[0m\u001b[0;34m]\u001b[0m\u001b[0;34m\u001b[0m\u001b[0;34m\u001b[0m\u001b[0m\n\u001b[0m",
      "\u001b[0;31mKeyError\u001b[0m: 4"
     ]
    }
   ],
   "source": [
    "d[4]"
   ]
  },
  {
   "cell_type": "markdown",
   "id": "catholic-appearance",
   "metadata": {},
   "source": [
    "Η τιμή `None` χρησιμεύει όταν θέλουμε να δηλώσουμε απουσία τιμής."
   ]
  },
  {
   "cell_type": "code",
   "execution_count": 132,
   "id": "hazardous-elder",
   "metadata": {},
   "outputs": [],
   "source": [
    "None"
   ]
  },
  {
   "cell_type": "code",
   "execution_count": 133,
   "id": "continued-router",
   "metadata": {},
   "outputs": [],
   "source": [
    "x = None"
   ]
  },
  {
   "cell_type": "markdown",
   "id": "strong-salon",
   "metadata": {},
   "source": [
    "Μια ματιά στο exception handling..."
   ]
  },
  {
   "cell_type": "code",
   "execution_count": 134,
   "id": "accomplished-kingdom",
   "metadata": {},
   "outputs": [
    {
     "name": "stdout",
     "output_type": "stream",
     "text": [
      "no\n"
     ]
    }
   ],
   "source": [
    "try:\n",
    "    print(d[\"yes\"])\n",
    "except KeyError:\n",
    "    print(\"Gotcha!\")"
   ]
  },
  {
   "cell_type": "markdown",
   "id": "civic-bronze",
   "metadata": {},
   "source": [
    "## Set comprehensions, list comprehensions, etc."
   ]
  },
  {
   "cell_type": "code",
   "execution_count": 135,
   "id": "mechanical-coordinator",
   "metadata": {},
   "outputs": [],
   "source": [
    "# set/list comprehension  { x | 0 < x < 1 }   --- generator"
   ]
  },
  {
   "cell_type": "code",
   "execution_count": 136,
   "id": "secure-paint",
   "metadata": {},
   "outputs": [
    {
     "data": {
      "text/plain": [
       "{0, 1, 4, 9, 16, 25, 36, 49, 64, 81}"
      ]
     },
     "execution_count": 136,
     "metadata": {},
     "output_type": "execute_result"
    }
   ],
   "source": [
    "{i*i for i in range(10)}"
   ]
  },
  {
   "cell_type": "code",
   "execution_count": 137,
   "id": "returning-store",
   "metadata": {},
   "outputs": [
    {
     "data": {
      "text/plain": [
       "[0, 1, 4, 9, 16, 25, 36, 49, 64, 81]"
      ]
     },
     "execution_count": 137,
     "metadata": {},
     "output_type": "execute_result"
    }
   ],
   "source": [
    "[i*i for i in range(10)]"
   ]
  },
  {
   "cell_type": "code",
   "execution_count": 138,
   "id": "italic-billy",
   "metadata": {},
   "outputs": [
    {
     "data": {
      "text/plain": [
       "(0, 1, 4, 9, 16, 25, 36, 49, 64, 81)"
      ]
     },
     "execution_count": 138,
     "metadata": {},
     "output_type": "execute_result"
    }
   ],
   "source": [
    "tuple(i*i for i in range(10))"
   ]
  },
  {
   "cell_type": "code",
   "execution_count": 139,
   "id": "rental-dealing",
   "metadata": {},
   "outputs": [
    {
     "data": {
      "text/plain": [
       "{0: 0, 1: 1, 2: 4, 3: 9, 4: 16, 5: 25, 6: 36, 7: 49, 8: 64, 9: 81}"
      ]
     },
     "execution_count": 139,
     "metadata": {},
     "output_type": "execute_result"
    }
   ],
   "source": [
    "{i: i*i for i in range(10)}"
   ]
  },
  {
   "cell_type": "code",
   "execution_count": 140,
   "id": "israeli-elements",
   "metadata": {},
   "outputs": [
    {
     "data": {
      "text/plain": [
       "[0, 4, 16, 36, 64]"
      ]
     },
     "execution_count": 140,
     "metadata": {},
     "output_type": "execute_result"
    }
   ],
   "source": [
    "[i*i for i in range(10) if i % 2 == 0]"
   ]
  },
  {
   "cell_type": "markdown",
   "id": "thermal-minimum",
   "metadata": {},
   "source": [
    "## Και πάλι, προσοχή με τις λίστες!"
   ]
  },
  {
   "cell_type": "code",
   "execution_count": 141,
   "id": "steady-junction",
   "metadata": {},
   "outputs": [],
   "source": [
    "A = [[0]*10]*10"
   ]
  },
  {
   "cell_type": "code",
   "execution_count": 142,
   "id": "regular-watershed",
   "metadata": {},
   "outputs": [
    {
     "data": {
      "text/plain": [
       "[[0, 0, 0, 0, 0, 0, 0, 0, 0, 0],\n",
       " [0, 0, 0, 0, 0, 0, 0, 0, 0, 0],\n",
       " [0, 0, 0, 0, 0, 0, 0, 0, 0, 0],\n",
       " [0, 0, 0, 0, 0, 0, 0, 0, 0, 0],\n",
       " [0, 0, 0, 0, 0, 0, 0, 0, 0, 0],\n",
       " [0, 0, 0, 0, 0, 0, 0, 0, 0, 0],\n",
       " [0, 0, 0, 0, 0, 0, 0, 0, 0, 0],\n",
       " [0, 0, 0, 0, 0, 0, 0, 0, 0, 0],\n",
       " [0, 0, 0, 0, 0, 0, 0, 0, 0, 0],\n",
       " [0, 0, 0, 0, 0, 0, 0, 0, 0, 0]]"
      ]
     },
     "execution_count": 142,
     "metadata": {},
     "output_type": "execute_result"
    }
   ],
   "source": [
    "A"
   ]
  },
  {
   "cell_type": "code",
   "execution_count": 143,
   "id": "completed-resource",
   "metadata": {},
   "outputs": [],
   "source": [
    "A[0][0] = 1"
   ]
  },
  {
   "cell_type": "code",
   "execution_count": 144,
   "id": "acute-basics",
   "metadata": {},
   "outputs": [
    {
     "data": {
      "text/plain": [
       "[[1, 0, 0, 0, 0, 0, 0, 0, 0, 0],\n",
       " [1, 0, 0, 0, 0, 0, 0, 0, 0, 0],\n",
       " [1, 0, 0, 0, 0, 0, 0, 0, 0, 0],\n",
       " [1, 0, 0, 0, 0, 0, 0, 0, 0, 0],\n",
       " [1, 0, 0, 0, 0, 0, 0, 0, 0, 0],\n",
       " [1, 0, 0, 0, 0, 0, 0, 0, 0, 0],\n",
       " [1, 0, 0, 0, 0, 0, 0, 0, 0, 0],\n",
       " [1, 0, 0, 0, 0, 0, 0, 0, 0, 0],\n",
       " [1, 0, 0, 0, 0, 0, 0, 0, 0, 0],\n",
       " [1, 0, 0, 0, 0, 0, 0, 0, 0, 0]]"
      ]
     },
     "execution_count": 144,
     "metadata": {},
     "output_type": "execute_result"
    }
   ],
   "source": [
    "A"
   ]
  },
  {
   "cell_type": "code",
   "execution_count": 145,
   "id": "sixth-round",
   "metadata": {},
   "outputs": [],
   "source": [
    "A = [[0 for j in range(10)] for i in range(10)]"
   ]
  },
  {
   "cell_type": "code",
   "execution_count": 146,
   "id": "incorporate-guard",
   "metadata": {},
   "outputs": [
    {
     "data": {
      "text/plain": [
       "[[0, 0, 0, 0, 0, 0, 0, 0, 0, 0],\n",
       " [0, 0, 0, 0, 0, 0, 0, 0, 0, 0],\n",
       " [0, 0, 0, 0, 0, 0, 0, 0, 0, 0],\n",
       " [0, 0, 0, 0, 0, 0, 0, 0, 0, 0],\n",
       " [0, 0, 0, 0, 0, 0, 0, 0, 0, 0],\n",
       " [0, 0, 0, 0, 0, 0, 0, 0, 0, 0],\n",
       " [0, 0, 0, 0, 0, 0, 0, 0, 0, 0],\n",
       " [0, 0, 0, 0, 0, 0, 0, 0, 0, 0],\n",
       " [0, 0, 0, 0, 0, 0, 0, 0, 0, 0],\n",
       " [0, 0, 0, 0, 0, 0, 0, 0, 0, 0]]"
      ]
     },
     "execution_count": 146,
     "metadata": {},
     "output_type": "execute_result"
    }
   ],
   "source": [
    "A"
   ]
  },
  {
   "cell_type": "code",
   "execution_count": 147,
   "id": "intimate-formula",
   "metadata": {},
   "outputs": [],
   "source": [
    "A[0][0] = 42"
   ]
  },
  {
   "cell_type": "code",
   "execution_count": 148,
   "id": "indonesian-prisoner",
   "metadata": {},
   "outputs": [
    {
     "data": {
      "text/plain": [
       "[[42, 0, 0, 0, 0, 0, 0, 0, 0, 0],\n",
       " [0, 0, 0, 0, 0, 0, 0, 0, 0, 0],\n",
       " [0, 0, 0, 0, 0, 0, 0, 0, 0, 0],\n",
       " [0, 0, 0, 0, 0, 0, 0, 0, 0, 0],\n",
       " [0, 0, 0, 0, 0, 0, 0, 0, 0, 0],\n",
       " [0, 0, 0, 0, 0, 0, 0, 0, 0, 0],\n",
       " [0, 0, 0, 0, 0, 0, 0, 0, 0, 0],\n",
       " [0, 0, 0, 0, 0, 0, 0, 0, 0, 0],\n",
       " [0, 0, 0, 0, 0, 0, 0, 0, 0, 0],\n",
       " [0, 0, 0, 0, 0, 0, 0, 0, 0, 0]]"
      ]
     },
     "execution_count": 148,
     "metadata": {},
     "output_type": "execute_result"
    }
   ],
   "source": [
    "A"
   ]
  },
  {
   "cell_type": "markdown",
   "id": "institutional-startup",
   "metadata": {},
   "source": [
    "## Γεννήτριες (generators)"
   ]
  },
  {
   "cell_type": "code",
   "execution_count": 149,
   "id": "moved-turtle",
   "metadata": {},
   "outputs": [],
   "source": [
    "g = (i*i for i in range(10))"
   ]
  },
  {
   "cell_type": "code",
   "execution_count": 150,
   "id": "egyptian-break",
   "metadata": {},
   "outputs": [
    {
     "data": {
      "text/plain": [
       "int"
      ]
     },
     "execution_count": 150,
     "metadata": {},
     "output_type": "execute_result"
    }
   ],
   "source": [
    "type(42)"
   ]
  },
  {
   "cell_type": "code",
   "execution_count": 151,
   "id": "clear-egyptian",
   "metadata": {},
   "outputs": [
    {
     "data": {
      "text/plain": [
       "str"
      ]
     },
     "execution_count": 151,
     "metadata": {},
     "output_type": "execute_result"
    }
   ],
   "source": [
    "type(\"hello\")"
   ]
  },
  {
   "cell_type": "code",
   "execution_count": 152,
   "id": "chemical-assault",
   "metadata": {},
   "outputs": [
    {
     "data": {
      "text/plain": [
       "generator"
      ]
     },
     "execution_count": 152,
     "metadata": {},
     "output_type": "execute_result"
    }
   ],
   "source": [
    "type(g)"
   ]
  },
  {
   "cell_type": "code",
   "execution_count": 153,
   "id": "forced-capital",
   "metadata": {},
   "outputs": [
    {
     "name": "stdout",
     "output_type": "stream",
     "text": [
      "0\n",
      "1\n",
      "4\n",
      "9\n",
      "16\n",
      "25\n",
      "36\n",
      "49\n",
      "64\n",
      "81\n"
     ]
    }
   ],
   "source": [
    "for x in g: print(x)"
   ]
  },
  {
   "cell_type": "markdown",
   "id": "latin-preparation",
   "metadata": {},
   "source": [
    "Οι γεννήτριες είναι σαν ακολουθίες δεδομένων, χρησιμοποιούνται όμως μία φορά!"
   ]
  },
  {
   "cell_type": "code",
   "execution_count": 154,
   "id": "thermal-meeting",
   "metadata": {},
   "outputs": [],
   "source": [
    "for x in g: print(x)"
   ]
  },
  {
   "cell_type": "code",
   "execution_count": 155,
   "id": "broad-recipe",
   "metadata": {},
   "outputs": [],
   "source": [
    "def fib(n):\n",
    "    if n == 0: return 0\n",
    "    a, b = 0, 1\n",
    "    for i in range(n-1):\n",
    "        c = a + b\n",
    "        a, b = b, c\n",
    "    return b"
   ]
  },
  {
   "cell_type": "code",
   "execution_count": 156,
   "id": "liberal-opportunity",
   "metadata": {},
   "outputs": [
    {
     "data": {
      "text/plain": [
       "[0,\n",
       " 1,\n",
       " 1,\n",
       " 2,\n",
       " 3,\n",
       " 5,\n",
       " 8,\n",
       " 13,\n",
       " 21,\n",
       " 34,\n",
       " 55,\n",
       " 89,\n",
       " 144,\n",
       " 233,\n",
       " 377,\n",
       " 610,\n",
       " 987,\n",
       " 1597,\n",
       " 2584,\n",
       " 4181]"
      ]
     },
     "execution_count": 156,
     "metadata": {},
     "output_type": "execute_result"
    }
   ],
   "source": [
    "[fib(n) for n in range(20)]"
   ]
  },
  {
   "cell_type": "code",
   "execution_count": 157,
   "id": "literary-zoning",
   "metadata": {},
   "outputs": [],
   "source": [
    "def fib(n):\n",
    "    if n == 0: return 0\n",
    "    a, b = 0, 1\n",
    "    print(a)\n",
    "    for i in range(n-1):\n",
    "        print(b)\n",
    "        c = a + b\n",
    "        a, b = b, c"
   ]
  },
  {
   "cell_type": "code",
   "execution_count": 158,
   "id": "valid-trick",
   "metadata": {},
   "outputs": [
    {
     "name": "stdout",
     "output_type": "stream",
     "text": [
      "0\n",
      "1\n",
      "1\n",
      "2\n",
      "3\n",
      "5\n",
      "8\n",
      "13\n",
      "21\n",
      "34\n"
     ]
    }
   ],
   "source": [
    "fib(10)"
   ]
  },
  {
   "cell_type": "code",
   "execution_count": 159,
   "id": "static-cedar",
   "metadata": {},
   "outputs": [],
   "source": [
    "def fib(n):\n",
    "    L = []\n",
    "    if n == 0: return 0\n",
    "    a, b = 0, 1\n",
    "    L.append(a)\n",
    "    for i in range(n-1):\n",
    "        L.append(b)\n",
    "        c = a + b\n",
    "        a, b = b, c\n",
    "    return L"
   ]
  },
  {
   "cell_type": "code",
   "execution_count": 160,
   "id": "equal-interface",
   "metadata": {},
   "outputs": [
    {
     "data": {
      "text/plain": [
       "[0, 1, 1, 2, 3, 5, 8, 13, 21, 34]"
      ]
     },
     "execution_count": 160,
     "metadata": {},
     "output_type": "execute_result"
    }
   ],
   "source": [
    "fib(10)"
   ]
  },
  {
   "cell_type": "code",
   "execution_count": 161,
   "id": "acting-judgment",
   "metadata": {},
   "outputs": [],
   "source": [
    "def fib(n):\n",
    "    if n == 0: return 0\n",
    "    a, b = 0, 1\n",
    "    yield a\n",
    "    for i in range(n-1):\n",
    "        yield b\n",
    "        c = a + b\n",
    "        a, b = b, c"
   ]
  },
  {
   "cell_type": "code",
   "execution_count": 162,
   "id": "cathedral-valve",
   "metadata": {},
   "outputs": [],
   "source": [
    "g = fib(10)"
   ]
  },
  {
   "cell_type": "code",
   "execution_count": 163,
   "id": "abroad-international",
   "metadata": {},
   "outputs": [
    {
     "data": {
      "text/plain": [
       "generator"
      ]
     },
     "execution_count": 163,
     "metadata": {},
     "output_type": "execute_result"
    }
   ],
   "source": [
    "type(g)"
   ]
  },
  {
   "cell_type": "code",
   "execution_count": 164,
   "id": "bacterial-mechanics",
   "metadata": {},
   "outputs": [
    {
     "name": "stdout",
     "output_type": "stream",
     "text": [
      "0\n",
      "1\n",
      "1\n",
      "2\n",
      "3\n",
      "5\n",
      "8\n",
      "13\n",
      "21\n",
      "34\n"
     ]
    }
   ],
   "source": [
    "for x in g: print(x)"
   ]
  },
  {
   "cell_type": "code",
   "execution_count": 165,
   "id": "critical-programmer",
   "metadata": {},
   "outputs": [],
   "source": [
    "for x in g: print(x)"
   ]
  },
  {
   "cell_type": "code",
   "execution_count": 166,
   "id": "center-rochester",
   "metadata": {},
   "outputs": [],
   "source": [
    "def fib():\n",
    "    a, b = 0, 1\n",
    "    yield a\n",
    "    while True:\n",
    "        yield b\n",
    "        c = a + b\n",
    "        a, b = b, c"
   ]
  },
  {
   "cell_type": "code",
   "execution_count": 167,
   "id": "nutritional-colorado",
   "metadata": {},
   "outputs": [],
   "source": [
    "g = fib()"
   ]
  },
  {
   "cell_type": "code",
   "execution_count": 168,
   "id": "flying-sweet",
   "metadata": {},
   "outputs": [
    {
     "name": "stdout",
     "output_type": "stream",
     "text": [
      "the element 0 has value 1\n",
      "the element 1 has value 2\n",
      "the element 2 has value 3\n"
     ]
    }
   ],
   "source": [
    "for i, x in enumerate([1, 2, 3]): print(\"the element\", i, \"has value\", x)"
   ]
  },
  {
   "cell_type": "code",
   "execution_count": 169,
   "id": "stopped-office",
   "metadata": {},
   "outputs": [
    {
     "name": "stdout",
     "output_type": "stream",
     "text": [
      "0\n",
      "1\n",
      "1\n",
      "2\n",
      "3\n",
      "5\n",
      "8\n",
      "13\n",
      "21\n",
      "34\n",
      "55\n",
      "89\n",
      "144\n",
      "233\n",
      "377\n",
      "610\n",
      "987\n",
      "1597\n",
      "2584\n",
      "4181\n",
      "6765\n",
      "10946\n",
      "17711\n",
      "28657\n",
      "46368\n",
      "75025\n",
      "121393\n",
      "196418\n",
      "317811\n",
      "514229\n",
      "832040\n",
      "1346269\n",
      "2178309\n",
      "3524578\n",
      "5702887\n",
      "9227465\n",
      "14930352\n",
      "24157817\n",
      "39088169\n",
      "63245986\n",
      "102334155\n",
      "165580141\n",
      "267914296\n",
      "433494437\n",
      "701408733\n",
      "1134903170\n",
      "1836311903\n",
      "2971215073\n",
      "4807526976\n",
      "7778742049\n",
      "12586269025\n",
      "20365011074\n",
      "32951280099\n",
      "53316291173\n",
      "86267571272\n",
      "139583862445\n",
      "225851433717\n",
      "365435296162\n",
      "591286729879\n",
      "956722026041\n",
      "1548008755920\n",
      "2504730781961\n",
      "4052739537881\n",
      "6557470319842\n",
      "10610209857723\n",
      "17167680177565\n",
      "27777890035288\n",
      "44945570212853\n",
      "72723460248141\n",
      "117669030460994\n",
      "190392490709135\n",
      "308061521170129\n",
      "498454011879264\n",
      "806515533049393\n",
      "1304969544928657\n",
      "2111485077978050\n",
      "3416454622906707\n",
      "5527939700884757\n",
      "8944394323791464\n",
      "14472334024676221\n",
      "23416728348467685\n",
      "37889062373143906\n",
      "61305790721611591\n",
      "99194853094755497\n",
      "160500643816367088\n",
      "259695496911122585\n",
      "420196140727489673\n",
      "679891637638612258\n",
      "1100087778366101931\n",
      "1779979416004714189\n",
      "2880067194370816120\n",
      "4660046610375530309\n",
      "7540113804746346429\n",
      "12200160415121876738\n",
      "19740274219868223167\n",
      "31940434634990099905\n",
      "51680708854858323072\n",
      "83621143489848422977\n",
      "135301852344706746049\n",
      "218922995834555169026\n",
      "354224848179261915075\n"
     ]
    }
   ],
   "source": [
    "for i, x in enumerate(g):\n",
    "    print(x)\n",
    "    if i >= 100: break"
   ]
  },
  {
   "cell_type": "code",
   "execution_count": 170,
   "id": "altered-wesley",
   "metadata": {},
   "outputs": [
    {
     "data": {
      "text/plain": [
       "[(0, 'a'), (1, 'b'), (2, 'c'), (3, 'd')]"
      ]
     },
     "execution_count": 170,
     "metadata": {},
     "output_type": "execute_result"
    }
   ],
   "source": [
    "list(enumerate(\"abcd\"))"
   ]
  },
  {
   "cell_type": "code",
   "execution_count": 171,
   "id": "detected-course",
   "metadata": {},
   "outputs": [
    {
     "name": "stdout",
     "output_type": "stream",
     "text": [
      "573147844013817084101\n",
      "927372692193078999176\n",
      "1500520536206896083277\n",
      "2427893228399975082453\n",
      "3928413764606871165730\n",
      "6356306993006846248183\n"
     ]
    }
   ],
   "source": [
    "for i, x in enumerate(g):\n",
    "    print(x)\n",
    "    if i >= 5: break"
   ]
  },
  {
   "cell_type": "code",
   "execution_count": 172,
   "id": "hispanic-cutting",
   "metadata": {},
   "outputs": [
    {
     "data": {
      "text/plain": [
       "10284720757613717413913"
      ]
     },
     "execution_count": 172,
     "metadata": {},
     "output_type": "execute_result"
    }
   ],
   "source": [
    "next(g)"
   ]
  },
  {
   "cell_type": "code",
   "execution_count": 173,
   "id": "basic-makeup",
   "metadata": {},
   "outputs": [
    {
     "data": {
      "text/plain": [
       "16641027750620563662096"
      ]
     },
     "execution_count": 173,
     "metadata": {},
     "output_type": "execute_result"
    }
   ],
   "source": [
    "next(g)"
   ]
  }
 ],
 "metadata": {
  "kernelspec": {
   "display_name": "Python 3",
   "language": "python",
   "name": "python3"
  },
  "language_info": {
   "codemirror_mode": {
    "name": "ipython",
    "version": 3
   },
   "file_extension": ".py",
   "mimetype": "text/x-python",
   "name": "python",
   "nbconvert_exporter": "python",
   "pygments_lexer": "ipython3",
   "version": "3.9.2"
  }
 },
 "nbformat": 4,
 "nbformat_minor": 5
}
